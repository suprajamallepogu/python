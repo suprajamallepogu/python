{
 "cells": [
  {
   "cell_type": "markdown",
   "id": "1029ddde-c05e-4d34-932e-c6265de55996",
   "metadata": {},
   "source": [
    "# Data types\n"
   ]
  },
  {
   "cell_type": "markdown",
   "id": "47034120-f53f-49a9-93bb-b126cbe0aea1",
   "metadata": {},
   "source": [
    "- Numerics--> int,float,complex\n",
    "- String--> str\n",
    "- Sequence--> list,tuple,range\n",
    "- Mapping--> dict\n",
    "- Boolean--> bool\n",
    "- Set--> set"
   ]
  },
  {
   "cell_type": "markdown",
   "id": "e9dc5d8a-7cae-4a56-ab34-72824ad4f1c9",
   "metadata": {},
   "source": [
    "# Numerics\n",
    " \n",
    "  \n"
   ]
  },
  {
   "cell_type": "code",
   "execution_count": 8,
   "id": "684395ca-5b2e-4bdd-966a-d2077cb337d6",
   "metadata": {},
   "outputs": [
    {
     "name": "stdout",
     "output_type": "stream",
     "text": [
      "<class 'int'>\n",
      "<class 'float'>\n",
      "<class 'complex'>\n"
     ]
    }
   ],
   "source": [
    "a=1         # int\n",
    "b=2.846     # float\n",
    "c=2+2j      # complex is a combination of real = imaginary value \n",
    "print(type(a))\n",
    "print(type(b))\n",
    "print(type(c))"
   ]
  },
  {
   "cell_type": "markdown",
   "id": "d623abd7-df54-46a2-8e14-e3a174fccdae",
   "metadata": {},
   "source": [
    "# Types of conversions "
   ]
  },
  {
   "cell_type": "markdown",
   "id": "0c926737-6fa6-4041-9d65-ed2481477bd9",
   "metadata": {},
   "source": [
    "- You can convert from one type to another with the int(),float(),complex() methods\n",
    "- You cannot convert complex numbers into another number type "
   ]
  },
  {
   "cell_type": "markdown",
   "id": "6772c86b-4b0a-434e-aa4f-8fd44185d5d4",
   "metadata": {},
   "source": [
    "- example 1"
   ]
  },
  {
   "cell_type": "code",
   "execution_count": 22,
   "id": "bb5e3a75-1fae-4fe4-ac15-fc003bc31465",
   "metadata": {},
   "outputs": [
    {
     "name": "stdout",
     "output_type": "stream",
     "text": [
      "7.0\n",
      "8\n",
      "(7+0j)\n",
      "<class 'float'>\n",
      "<class 'int'>\n",
      "<class 'complex'>\n"
     ]
    }
   ],
   "source": [
    "x = 7     # int 7.0\n",
    "y = 8.92  # float\n",
    "z = 2+3j  # complex\n",
    "\n",
    "#convert from int to float:\n",
    "a = float(x)\n",
    "\n",
    "#convert from float to int:\n",
    "b = int(y)\n",
    "\n",
    "#convert from into to complex:\n",
    "c = complex(x)\n",
    "\n",
    "print(a)\n",
    "print(b)\n",
    "print(c)\n",
    "\n",
    "print(type(a))\n",
    "print(type(b))\n",
    "print(type(c))"
   ]
  },
  {
   "cell_type": "markdown",
   "id": "f4c82d5c-9e9e-4c13-ac76-f71a534f4420",
   "metadata": {},
   "source": [
    "- example 2"
   ]
  },
  {
   "cell_type": "code",
   "execution_count": 24,
   "id": "fc750c17-54d7-4367-9cd7-f0e31745d2db",
   "metadata": {},
   "outputs": [
    {
     "name": "stdout",
     "output_type": "stream",
     "text": [
      "89.0\n",
      "(89+0j)\n",
      "67\n",
      "<class 'float'>\n",
      "<class 'complex'>\n",
      "<class 'int'>\n"
     ]
    }
   ],
   "source": [
    "a = 89 #int 89.0\n",
    "b = 67.5 #float\n",
    "c = 3+4j #complex\n",
    "\n",
    "#convert from int to float\n",
    "x = float(a)\n",
    "\n",
    "#convert from into to complex\n",
    "y = complex(a)\n",
    "\n",
    "#convert from float to int\n",
    "z = int(b)\n",
    "\n",
    "\n",
    "\n",
    "print(x)\n",
    "print(y)\n",
    "print(z)\n",
    "\n",
    "\n",
    "print(type(x))\n",
    "print(type(y))\n",
    "print(type(z))\n",
    "\n",
    "\n",
    "      "
   ]
  },
  {
   "cell_type": "markdown",
   "id": "d3d2acb5-d36e-48df-b5b4-10202932f2f3",
   "metadata": {},
   "source": [
    "- example 3\n"
   ]
  },
  {
   "cell_type": "code",
   "execution_count": 25,
   "id": "12fd7a5d-5580-44da-876a-98d7660fd563",
   "metadata": {},
   "outputs": [
    {
     "name": "stdout",
     "output_type": "stream",
     "text": [
      "567.0\n",
      "(678.65+0j)\n",
      "678\n",
      "<class 'float'>\n",
      "<class 'complex'>\n",
      "<class 'int'>\n"
     ]
    }
   ],
   "source": [
    "x = 567 # int\n",
    "y = 678.65 #float\n",
    "z = 8+9j #complex\n",
    "\n",
    "#convert from int to float\n",
    "p = float(x)\n",
    "\n",
    "#convert from float to complex\n",
    "q = complex(y)\n",
    "\n",
    "#convert from float to int\n",
    "r = int(y)\n",
    "\n",
    "print(p)\n",
    "print(q)\n",
    "print(r)\n",
    "\n",
    "print(type(p))\n",
    "print(type(q))\n",
    "print(type(r))\n",
    "      \n"
   ]
  },
  {
   "cell_type": "markdown",
   "id": "584501d4-333e-4679-a9c5-b38095ad629c",
   "metadata": {},
   "source": [
    "- example 4"
   ]
  },
  {
   "cell_type": "code",
   "execution_count": 26,
   "id": "127ec19b-239c-4a70-b162-53b5f7c61695",
   "metadata": {},
   "outputs": [
    {
     "name": "stdout",
     "output_type": "stream",
     "text": [
      "(678.345+0j)\n",
      "678\n",
      "999.0\n",
      "<class 'complex'>\n",
      "<class 'int'>\n",
      "<class 'float'>\n"
     ]
    }
   ],
   "source": [
    "x = 999 # int\n",
    "y = 678.345 #float\n",
    "z = 48+89j #complex\n",
    "\n",
    "#convert from float to complex\n",
    "a = complex(y)\n",
    "\n",
    "#convert from float to int\n",
    "b = int(y)\n",
    "\n",
    "#convert from int to float\n",
    "c = float(x)\n",
    "\n",
    "print(a)\n",
    "print(b)\n",
    "print(c)\n",
    "\n",
    "print(type(a))\n",
    "print(type(b))\n",
    "print(type(c))\n"
   ]
  },
  {
   "cell_type": "markdown",
   "id": "e93548e6-7c28-4c46-8da8-509065e48515",
   "metadata": {},
   "source": [
    "- example 5"
   ]
  },
  {
   "cell_type": "code",
   "execution_count": 27,
   "id": "d3c7c1fd-71b7-4051-87bd-19ab2716f6eb",
   "metadata": {},
   "outputs": [
    {
     "name": "stdout",
     "output_type": "stream",
     "text": [
      "(789.89+0j)\n",
      "789\n",
      "678.0\n",
      "<class 'complex'>\n",
      "<class 'int'>\n",
      "<class 'float'>\n"
     ]
    }
   ],
   "source": [
    "x = 678 # int\n",
    "y = 789.89 #float\n",
    "z = 678+45j #complex\n",
    "\n",
    "#convert from float to complex\n",
    "a = complex(y)\n",
    "\n",
    "#convert from float to int\n",
    "b = int(y)\n",
    "\n",
    "#convert from int to float\n",
    "c = float(x)\n",
    "\n",
    "print(a)\n",
    "print(b)\n",
    "print(c)\n",
    "\n",
    "print(type(a))\n",
    "print(type(b))\n",
    "print(type(c))\n"
   ]
  },
  {
   "cell_type": "markdown",
   "id": "8615ea72-f72e-4d8a-a31a-048cd8b9045b",
   "metadata": {},
   "source": [
    "# Evaluate values and variables"
   ]
  },
  {
   "cell_type": "markdown",
   "id": "8aa08bf3-47e2-4687-821b-a66791a2a6a2",
   "metadata": {},
   "source": [
    "- The bool() function allows you to evaluate any value,and give you True/False in return"
   ]
  },
  {
   "cell_type": "code",
   "execution_count": 28,
   "id": "ed3ac945-658c-4c3b-a9c7-7bb19e660559",
   "metadata": {},
   "outputs": [
    {
     "name": "stdout",
     "output_type": "stream",
     "text": [
      "True\n",
      "False\n",
      "True\n"
     ]
    }
   ],
   "source": [
    "print(bool(43.9>1))\n",
    "print(bool(0))\n",
    "print(bool(73))"
   ]
  },
  {
   "cell_type": "code",
   "execution_count": 29,
   "id": "3c6b4dbf-8c1a-4756-8553-6a32d768c6d3",
   "metadata": {},
   "outputs": [
    {
     "name": "stdout",
     "output_type": "stream",
     "text": [
      "True\n",
      "False\n",
      "False\n"
     ]
    }
   ],
   "source": [
    "print(bool(3456))\n",
    "print(bool(0))\n",
    "print(bool(78<3))     "
   ]
  },
  {
   "cell_type": "code",
   "execution_count": 30,
   "id": "a3eba8a8-40c0-42e7-a5ab-3f6a71fc3ce0",
   "metadata": {},
   "outputs": [
    {
     "name": "stdout",
     "output_type": "stream",
     "text": [
      "True\n",
      "True\n",
      "False\n"
     ]
    }
   ],
   "source": [
    "print(bool(9))\n",
    "print(bool(9.0))\n",
    "print(bool())"
   ]
  },
  {
   "cell_type": "code",
   "execution_count": 31,
   "id": "be9f9ed6-ce33-425c-b0e9-c50453de43cf",
   "metadata": {},
   "outputs": [
    {
     "name": "stdout",
     "output_type": "stream",
     "text": [
      "True\n",
      "True\n",
      "False\n"
     ]
    }
   ],
   "source": [
    "print(bool(6523>5679))\n",
    "print(bool(650<789))\n",
    "print(bool())"
   ]
  },
  {
   "cell_type": "code",
   "execution_count": 35,
   "id": "e2ca49f9-10d3-464d-9b95-a2f5a63404d3",
   "metadata": {},
   "outputs": [
    {
     "name": "stdout",
     "output_type": "stream",
     "text": [
      "True\n",
      "True\n",
      "True\n"
     ]
    }
   ],
   "source": [
    "print(bool(34256))\n",
    "print(bool(-765))\n",
    "print(bool(876>456))"
   ]
  },
  {
   "cell_type": "code",
   "execution_count": null,
   "id": "82f802f3-b78a-4c06-a8c8-8e12302dd67c",
   "metadata": {},
   "outputs": [],
   "source": []
  }
 ],
 "metadata": {
  "kernelspec": {
   "display_name": "Python 3 (ipykernel)",
   "language": "python",
   "name": "python3"
  },
  "language_info": {
   "codemirror_mode": {
    "name": "ipython",
    "version": 3
   },
   "file_extension": ".py",
   "mimetype": "text/x-python",
   "name": "python",
   "nbconvert_exporter": "python",
   "pygments_lexer": "ipython3",
   "version": "3.11.7"
  }
 },
 "nbformat": 4,
 "nbformat_minor": 5
}
