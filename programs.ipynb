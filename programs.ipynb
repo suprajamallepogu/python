{
 "cells": [
  {
   "cell_type": "code",
   "execution_count": 17,
   "id": "197bdf47-73e0-4b39-8af8-d8b778ae3b29",
   "metadata": {},
   "outputs": [
    {
     "data": {
      "text/plain": [
       "280"
      ]
     },
     "execution_count": 17,
     "metadata": {},
     "output_type": "execute_result"
    }
   ],
   "source": [
    "# function with two arguments\n",
    "def add_numbers(n1,n2,n3):\n",
    "    sum = n1 + n2 + n3\n",
    "    return sum\n",
    "\n",
    "add_numbers(67,90,123)\n"
   ]
  },
  {
   "cell_type": "code",
   "execution_count": 12,
   "id": "cd95c8a7-5a42-44ed-86f9-f7e230d15d2e",
   "metadata": {},
   "outputs": [
    {
     "data": {
      "text/plain": [
       "-1566"
      ]
     },
     "execution_count": 12,
     "metadata": {},
     "output_type": "execute_result"
    }
   ],
   "source": [
    "def sub_numbers(num1,num2,num3):\n",
    "    sub = num1 - num2 -num3\n",
    "    return sub\n",
    "\n",
    "sub_numbers(890,2389,67)\n"
   ]
  },
  {
   "cell_type": "code",
   "execution_count": 3,
   "id": "1cd16479-6784-48b9-bd9e-8f9ad7f77cf7",
   "metadata": {},
   "outputs": [
    {
     "name": "stdout",
     "output_type": "stream",
     "text": [
      "3672\n"
     ]
    }
   ],
   "source": [
    "def mul_numbers(num1,num2,num3):\n",
    "    mul = num1 * num2 * num3\n",
    "    print(mul)\n",
    "\n",
    "mul_numbers(9,34,12)\n"
   ]
  },
  {
   "cell_type": "code",
   "execution_count": 4,
   "id": "c7375dbf-8b3f-4634-96a2-c260c1d71c0e",
   "metadata": {},
   "outputs": [
    {
     "name": "stdout",
     "output_type": "stream",
     "text": [
      "199.56521739130434\n"
     ]
    }
   ],
   "source": [
    "def division_numbers(n1,n2):\n",
    "    division = n1 /n2\n",
    "    print(division)\n",
    "\n",
    "division_numbers(4590,23)\n"
   ]
  },
  {
   "cell_type": "code",
   "execution_count": 9,
   "id": "d8f15292-69e7-42e4-a2cb-c55bc49a0d9a",
   "metadata": {},
   "outputs": [
    {
     "data": {
      "text/plain": [
       "210"
      ]
     },
     "execution_count": 9,
     "metadata": {},
     "output_type": "execute_result"
    }
   ],
   "source": [
    "def modulus_numbers(n4,n6):\n",
    "    modulus = n4 % n6\n",
    "    return modulus\n",
    "\n",
    "modulus_numbers(678,234)"
   ]
  },
  {
   "cell_type": "code",
   "execution_count": 1,
   "id": "0ff9f482-051e-4307-ba80-ebbeb74bdae9",
   "metadata": {},
   "outputs": [
    {
     "data": {
      "text/plain": [
       "'Positive'"
      ]
     },
     "execution_count": 1,
     "metadata": {},
     "output_type": "execute_result"
    }
   ],
   "source": [
    "def positive_negative_zero(num):\n",
    "    if num > 0:\n",
    "        return \"Positive\"\n",
    "    elif num < 0:\n",
    "        return \"Negative\"\n",
    "    else:\n",
    "        return \"Zero\"\n",
    "\n",
    "positive_negative_zero(9)"
   ]
  },
  {
   "cell_type": "code",
   "execution_count": 2,
   "id": "7a85c9af-b524-452b-88bd-16bf216b83ac",
   "metadata": {},
   "outputs": [
    {
     "data": {
      "text/plain": [
       "'Fail'"
      ]
     },
     "execution_count": 2,
     "metadata": {},
     "output_type": "execute_result"
    }
   ],
   "source": [
    "def pass_fail(score):\n",
    "    if score >= 60:\n",
    "        return \"Pass\"\n",
    "    else:\n",
    "        return \"Fail\"\n",
    "\n",
    "pass_fail(23)"
   ]
  },
  {
   "cell_type": "code",
   "execution_count": 5,
   "id": "2a448e98-3dc4-4e05-aa0e-e149fbaeb846",
   "metadata": {},
   "outputs": [
    {
     "data": {
      "text/plain": [
       "0"
      ]
     },
     "execution_count": 5,
     "metadata": {},
     "output_type": "execute_result"
    }
   ],
   "source": [
    "def average_rating(ratings):\n",
    "    if not ratings:\n",
    "        return 0\n",
    "    return sum(ratings) / len(ratings)\n",
    "\n",
    "average_rating(0)\n"
   ]
  },
  {
   "cell_type": "code",
   "execution_count": null,
   "id": "d3e2e5bf-84cf-4668-bea9-4bf34ba63e5e",
   "metadata": {},
   "outputs": [],
   "source": []
  }
 ],
 "metadata": {
  "kernelspec": {
   "display_name": "Python 3 (ipykernel)",
   "language": "python",
   "name": "python3"
  },
  "language_info": {
   "codemirror_mode": {
    "name": "ipython",
    "version": 3
   },
   "file_extension": ".py",
   "mimetype": "text/x-python",
   "name": "python",
   "nbconvert_exporter": "python",
   "pygments_lexer": "ipython3",
   "version": "3.11.7"
  }
 },
 "nbformat": 4,
 "nbformat_minor": 5
}
