{
 "cells": [
  {
   "cell_type": "code",
   "execution_count": 8,
   "id": "61abf6d9-20d7-45b3-9b78-1d690f219e5f",
   "metadata": {},
   "outputs": [
    {
     "name": "stdout",
     "output_type": "stream",
     "text": [
      "based on our requirements\n",
      "no.of different applications\n",
      "tv has different tv channels!\n",
      "either cool or warm!\n",
      "either speaker on or mute\n"
     ]
    }
   ],
   "source": [
    "class electrical_device:\n",
    "    def requirements(self):\n",
    "        print(\"based on our requirements\")\n",
    "    def applications(self):\n",
    "        print(\"no.of different applications\")\n",
    "\n",
    "class tv(electrical_device):\n",
    "    def channels(self):\n",
    "        print(\"tv has different tv channels!\")\n",
    "\n",
    "class AC(electrical_device):\n",
    "    def condition(self):\n",
    "        print(\"either cool or warm!\")\n",
    "\n",
    "class remote(electrical_device):\n",
    "    def buttons(self):\n",
    "        print(\"either speaker on or mute\")\n",
    "\n",
    "tv1 =tv ()\n",
    "AC2 = AC()\n",
    "remote3 =remote()\n",
    "\n",
    "tv1.requirements()\n",
    "tv1.applications()\n",
    "\n",
    "tv1.channels()\n",
    "AC2.condition()\n",
    "remote3.buttons()\n"
   ]
  },
  {
   "cell_type": "code",
   "execution_count": 11,
   "id": "82c54e44-9630-4a78-96a3-23689f806405",
   "metadata": {},
   "outputs": [
    {
     "name": "stdout",
     "output_type": "stream",
     "text": [
      "enhance our beauty through makeup products\n",
      "highly cost at price\n",
      "lips are red in colour\n",
      "eyes are beautiful\n",
      "smmoth texture on skin\n",
      "sharps the nose after use it\n"
     ]
    }
   ],
   "source": [
    "class makeup:\n",
    "    def beauty(self):\n",
    "        print(\"enhance our beauty through makeup products\")\n",
    "    def price(self):\n",
    "        print(\"highly cost at price\")\n",
    "\n",
    "class lipstick(makeup):\n",
    "    def lips(self):\n",
    "        print(\"lips are red in colour\")\n",
    "\n",
    "class eyeliner(makeup):\n",
    "    def eye(self):\n",
    "        print(\"eyes are beautiful\")\n",
    "\n",
    "class skin(makeup):\n",
    "    def moisturiser(self):\n",
    "        print(\"smmoth texture on skin\")\n",
    "\n",
    "class nose(makeup):\n",
    "    def highlighter(self):\n",
    "        print(\"sharps the nose after use it\")\n",
    "\n",
    "lipstick1 = lipstick()\n",
    "eyeliner1 = eyeliner()\n",
    "skin1 = skin()\n",
    "nose1 = nose()\n",
    "\n",
    "skin1.beauty()\n",
    "skin1.price()\n",
    "\n",
    "lipstick1.lips()\n",
    "eyeliner1.eye()\n",
    "skin1.moisturiser()\n",
    "nose1.highlighter()\n",
    "\n",
    "        \n",
    "        \n",
    "\n",
    "        \n",
    "               "
   ]
  },
  {
   "cell_type": "markdown",
   "id": "7cdce1c0-9ba7-4fcd-aef2-b102e3a15c90",
   "metadata": {},
   "source": [
    "# encapsulation"
   ]
  },
  {
   "cell_type": "code",
   "execution_count": 33,
   "id": "728b02aa-f814-4ee7-9b1c-b20fca0d22eb",
   "metadata": {},
   "outputs": [
    {
     "name": "stdout",
     "output_type": "stream",
     "text": [
      "8341\n",
      "canvas\n"
     ]
    }
   ],
   "source": [
    "class ATM:\n",
    "    def __init__(self,pin,camera):\n",
    "        self.__pin = pin\n",
    "        self._camera = camera\n",
    "        print(self.__pin)\n",
    "\n",
    "class ATM1(ATM):\n",
    "    def cameras(self):\n",
    "        print(self._camera)\n",
    "\n",
    "op =ATM1(8341,\"canvas\")\n",
    "op.cameras()    "
   ]
  },
  {
   "cell_type": "code",
   "execution_count": 8,
   "id": "0e417df5-302f-4b23-b37d-0fa3f345d379",
   "metadata": {},
   "outputs": [
    {
     "name": "stdout",
     "output_type": "stream",
     "text": [
      "2000\n",
      "LUDHI\n"
     ]
    }
   ],
   "source": [
    "class BankAccount:\n",
    "    def __init__(self,accountholder, balance):\n",
    "        \n",
    "        self._accountholder = accountholder   \n",
    "        self.__balance = balance              \n",
    "        print(self.__balance)\n",
    "\n",
    "\n",
    "class bank1(BankAccount):\n",
    "    def holder(self):\n",
    "        print(self._accountholder)\n",
    "\n",
    "\n",
    "output1 = bank1('LUDHI',2000)\n",
    "\n",
    "output1.holder()\n",
    "   \n"
   ]
  },
  {
   "cell_type": "code",
   "execution_count": null,
   "id": "9c4cbcbc-dceb-4790-92d5-22f74e31c68a",
   "metadata": {},
   "outputs": [],
   "source": []
  }
 ],
 "metadata": {
  "kernelspec": {
   "display_name": "Python 3 (ipykernel)",
   "language": "python",
   "name": "python3"
  },
  "language_info": {
   "codemirror_mode": {
    "name": "ipython",
    "version": 3
   },
   "file_extension": ".py",
   "mimetype": "text/x-python",
   "name": "python",
   "nbconvert_exporter": "python",
   "pygments_lexer": "ipython3",
   "version": "3.11.7"
  }
 },
 "nbformat": 4,
 "nbformat_minor": 5
}
