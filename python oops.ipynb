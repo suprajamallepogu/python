{
 "cells": [
  {
   "cell_type": "code",
   "execution_count": 11,
   "id": "b7456c5e-f47b-4e78-accb-e991216246c1",
   "metadata": {},
   "outputs": [
    {
     "name": "stdout",
     "output_type": "stream",
     "text": [
      "telugu is speaking A.p in india.\n",
      "kanada is spoken  karnataka in india.\n",
      "hindi is spoke banglore in india.\n",
      "particular place in india!\n"
     ]
    }
   ],
   "source": [
    "class languages:\n",
    "    def __init__(self,name,location):\n",
    "        self.name = name\n",
    "        self.location = location\n",
    "    def area(self):\n",
    "        print(\"particular place in india!\")\n",
    "\n",
    "languages1 = languages('telugu','A.p')\n",
    "languages2 = languages('kanada','karnataka')\n",
    "languages3 = languages('hindi','banglore')\n",
    "print(f\"{languages1.name} is speaking {languages1.location} in india.\")\n",
    "print(f\"{languages2.name} is spoken  {languages2.location} in india.\")\n",
    "print(f\"{languages3.name} is spoke {languages3.location} in india.\")\n",
    "languages1.area()"
   ]
  },
  {
   "cell_type": "code",
   "execution_count": 37,
   "id": "ed25a391-478f-4b9d-b745-d388870e7174",
   "metadata": {},
   "outputs": [
    {
     "name": "stdout",
     "output_type": "stream",
     "text": [
      "BITS college is located in KNL at kurnool district.\n",
      "Ashoka college is located in Dupadu at kurnool district.\n",
      "K.V Subbareddy college is located in peddatekuri at kurnool district.\n",
      "pullareddy college is located in pasupala at kurnool district.\n",
      "Ravindra college is located in kurnool at kurnool district.\n",
      "kurnool\n",
      "chinnatekur\n"
     ]
    }
   ],
   "source": [
    "class college:\n",
    "    def __init__(self,name,location):\n",
    "        self.name = name\n",
    "        self.location = location\n",
    "    def place(self):\n",
    "        print('kurnool')\n",
    "    def area(self):\n",
    "        print('chinnatekur')\n",
    "\n",
    "college1 = college(\"BITS\",'KNL')\n",
    "college2 = college(\"Ashoka\",'Dupadu')\n",
    "college3 = college(\"K.V Subbareddy\",'peddatekuri')\n",
    "college4 = college(\"pullareddy\",'pasupala')\n",
    "college5 = college(\"Ravindra\",'kurnool')\n",
    "print(f\"{college1.name} college is located in {college1.location} at kurnool district.\")\n",
    "print(f\"{college2.name} college is located in {college2.location} at kurnool district.\")\n",
    "print(f\"{college3.name} college is located in {college3.location} at kurnool district.\")\n",
    "print(f\"{college4.name} college is located in {college4.location} at kurnool district.\")\n",
    "print(f\"{college5.name} college is located in {college5.location} at kurnool district.\")\n",
    "college2.place()\n",
    "college3.area()"
   ]
  },
  {
   "cell_type": "code",
   "execution_count": 9,
   "id": "83b776b4-358f-48d8-811f-c892f4204d17",
   "metadata": {},
   "outputs": [
    {
     "name": "stdout",
     "output_type": "stream",
     "text": [
      "pallevelugu bus is 30 Rs cost to reach kurnool at morning\n",
      "express bus is 70 Rs cost to reach kurnool at night\n",
      "super_luxury bus is 150 Rs cost to reach kurnool at afternoon\n",
      "kurnool\n"
     ]
    }
   ],
   "source": [
    "class buses:\n",
    "    def __init__(self,bus_name,ticket_cost,time):\n",
    "        self.bus_name = bus_name\n",
    "        self.ticket_cost = ticket_cost\n",
    "        self.time = time\n",
    "    def location(self):\n",
    "        print('kurnool')\n",
    "\n",
    "buses1 = buses('pallevelugu',30,'morning')\n",
    "buses2 = buses('express',70,'night')\n",
    "buses3 = buses('super_luxury',150,'afternoon')\n",
    "print(f\"{buses1.bus_name} bus is {buses1.ticket_cost} Rs cost to reach kurnool at {buses1.time}\")\n",
    "print(f\"{buses2.bus_name} bus is {buses2.ticket_cost} Rs cost to reach kurnool at {buses2.time}\")      \n",
    "print(f\"{buses3.bus_name} bus is {buses3.ticket_cost} Rs cost to reach kurnool at {buses3.time}\")   \n",
    "buses2.location()"
   ]
  },
  {
   "cell_type": "markdown",
   "id": "ea300519-a27c-4c18-82ea-c143915457fc",
   "metadata": {},
   "source": [
    "# str method"
   ]
  },
  {
   "cell_type": "code",
   "execution_count": 46,
   "id": "b78d6b0d-ccfd-4e86-a594-6d3f6a1c4593",
   "metadata": {},
   "outputs": [
    {
     "name": "stdout",
     "output_type": "stream",
     "text": [
      "durgam cheruvu,1766 in hyd\n",
      "hitech city,1782 in hyd\n",
      "madhapur,1652 in hyd\n",
      "ameerpet,1439 in hyd\n"
     ]
    }
   ],
   "source": [
    "class metro_station:\n",
    "    def __init__ (self,name,pillar_number):\n",
    "        self.name = name\n",
    "        self.pillar_number = pillar_number\n",
    "    def __str__ (self):\n",
    "        return f\"{self.name},{self.pillar_number} in hyd\"\n",
    "\n",
    "metro_stations = metro_station(name = 'durgam cheruvu',pillar_number =1766)\n",
    "metro = metro_station(name = 'hitech city',pillar_number = 1782)\n",
    "station = metro_station(name = 'madhapur',pillar_number = 1652)\n",
    "stations = metro_station(name = 'ameerpet',pillar_number = 1439)\n",
    "print(metro_stations)\n",
    "print(metro)\n",
    "print(station)\n",
    "print(stations)\n",
    "        "
   ]
  },
  {
   "cell_type": "code",
   "execution_count": 68,
   "id": "85019a5e-ff9a-4c6d-bd91-098693181cc4",
   "metadata": {},
   "outputs": [
    {
     "name": "stdout",
     "output_type": "stream",
     "text": [
      "maa channel at 7 pm serial with 5 star rating\n",
      "gemini channel at 5 pm serial with 3 star rating\n",
      "zeetelugu channel at 3 pm serial with 4 star rating\n",
      "etv channel at 9 pm serial with 2 star rating\n"
     ]
    }
   ],
   "source": [
    "class serials:\n",
    "    def __init__(self,channel,timing,rating):\n",
    "        self.channel = channel\n",
    "        self.timing = timing\n",
    "        self.rating = rating\n",
    "    def __str__(self):\n",
    "        return f\"{self.channel} channel at {self.timing} pm serial with {self.rating} star rating\"\n",
    "\n",
    "my_serial = serials(channel = 'maa',timing = 7,rating = 5)\n",
    "serial = serials(channel = 'gemini',timing = 5, rating = 3)\n",
    "se_rial = serials(channel = 'zeetelugu',timing =3,rating = 4)\n",
    "seri_al = serials(channel = 'etv',timing =9,rating = 2)\n",
    "print(my_serial)\n",
    "print(serial)\n",
    "print(se_rial)\n",
    "print(seri_al)\n",
    "\n"
   ]
  },
  {
   "cell_type": "code",
   "execution_count": 8,
   "id": "f04fb3ef-25bc-43cf-afc1-b2edf47a0ad2",
   "metadata": {},
   "outputs": [
    {
     "name": "stdout",
     "output_type": "stream",
     "text": [
      "9 is positive and -9 is negative numbers\n",
      "45 is positive and -100 is negative numbers\n",
      "486 is positive and -861 is negative numbers\n"
     ]
    }
   ],
   "source": [
    "class integers:\n",
    "    def __init__(self,positive,negative):\n",
    "        self.positive = positive\n",
    "        self.negative = negative\n",
    "    def __str__(self):\n",
    "        return f\"{self.positive} is positive and {self.negative} is negative numbers\"\n",
    "        \n",
    "integer = integers(positive = 9,negative = -9)\n",
    "int_eger = integers(positive = 45 ,negative = -100)\n",
    "number = integers(positive = 486 , negative = -861)\n",
    "print(integer)\n",
    "print(int_eger)\n",
    "print(number)\n",
    "\n",
    "\n",
    "\n",
    "        \n",
    "            "
   ]
  },
  {
   "cell_type": "code",
   "execution_count": 4,
   "id": "6448e99c-a681-4160-9cec-d5919028a6ac",
   "metadata": {},
   "outputs": [
    {
     "name": "stdout",
     "output_type": "stream",
     "text": [
      "naveena is meet me at coffe_shop\n",
      "soniya is meet me at college\n",
      "stella is meet me at myhome\n",
      "oliva is meet me at canteen\n"
     ]
    }
   ],
   "source": [
    "class friends:\n",
    "    def __init__(self,name,where_we_meet):\n",
    "        self.name = name\n",
    "        self.where_we_meet = where_we_meet\n",
    "    def __str__(self):\n",
    "        return f\"{self.name} is meet me at {self.where_we_meet}\"\n",
    "\n",
    "friend = friends(name = 'naveena',where_we_meet = 'coffe_shop')\n",
    "dosth = friends(name = 'soniya',where_we_meet = \"college\")\n",
    "bestie = friends(name = 'stella',where_we_meet = 'myhome')\n",
    "my_friend = friends(name = 'oliva',where_we_meet = 'canteen')\n",
    "print(friend)\n",
    "print(dosth)\n",
    "print(bestie)\n",
    "print(my_friend)"
   ]
  },
  {
   "cell_type": "code",
   "execution_count": null,
   "id": "5fb8849e-81d7-43ce-97cf-6821c1c8de60",
   "metadata": {},
   "outputs": [],
   "source": []
  }
 ],
 "metadata": {
  "kernelspec": {
   "display_name": "Python 3 (ipykernel)",
   "language": "python",
   "name": "python3"
  },
  "language_info": {
   "codemirror_mode": {
    "name": "ipython",
    "version": 3
   },
   "file_extension": ".py",
   "mimetype": "text/x-python",
   "name": "python",
   "nbconvert_exporter": "python",
   "pygments_lexer": "ipython3",
   "version": "3.11.7"
  }
 },
 "nbformat": 4,
 "nbformat_minor": 5
}
