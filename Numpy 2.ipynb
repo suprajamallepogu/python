{
 "cells": [
  {
   "cell_type": "code",
   "execution_count": 1,
   "id": "538f868c-99b3-4b95-820b-d9ec9cea7ec1",
   "metadata": {},
   "outputs": [
    {
     "name": "stdout",
     "output_type": "stream",
     "text": [
      "-2\n"
     ]
    }
   ],
   "source": [
    "# sub of a two elements in a list\n",
    "list = [1,2,3,4,5,6,7,8]\n",
    "print(list[1]-list[3])"
   ]
  },
  {
   "cell_type": "code",
   "execution_count": 2,
   "id": "1d04fd46-68f2-43a6-8a54-76b57e209b73",
   "metadata": {},
   "outputs": [
    {
     "name": "stdout",
     "output_type": "stream",
     "text": [
      "11\n"
     ]
    }
   ],
   "source": [
    "# adding of a two elements in a list\n",
    "print(list[-2]+list[-5])"
   ]
  },
  {
   "cell_type": "code",
   "execution_count": 3,
   "id": "db85e63a-68cb-4e32-a1a5-da8d446ec565",
   "metadata": {},
   "outputs": [
    {
     "name": "stdout",
     "output_type": "stream",
     "text": [
      "48\n"
     ]
    }
   ],
   "source": [
    "# multiplication of a two elements in a list\n",
    "print(list[5]*list[7])"
   ]
  },
  {
   "cell_type": "code",
   "execution_count": 4,
   "id": "b03b09fa-4a51-4f37-b2a2-88ce1e53832c",
   "metadata": {},
   "outputs": [
    {
     "name": "stdout",
     "output_type": "stream",
     "text": [
      "0.6666666666666666\n"
     ]
    }
   ],
   "source": [
    "# division a two elements in a list\n",
    "print(list[3]/list[5])"
   ]
  },
  {
   "cell_type": "code",
   "execution_count": 6,
   "id": "1e428f80-92a2-42f0-b18d-af2ebeb91377",
   "metadata": {},
   "outputs": [
    {
     "name": "stdout",
     "output_type": "stream",
     "text": [
      "1\n"
     ]
    }
   ],
   "source": [
    "# modulus of a two elements in a list\n",
    "print(list[6]% list[1])"
   ]
  },
  {
   "cell_type": "code",
   "execution_count": 39,
   "id": "b5951287-dfee-49a5-b439-2b7b712f7808",
   "metadata": {},
   "outputs": [
    {
     "name": "stdout",
     "output_type": "stream",
     "text": [
      "150\n"
     ]
    }
   ],
   "source": [
    "list1 = [23,42,67,90,123]\n",
    "list2 = [45,78,12,34,56,27,89]\n",
    "print(list1[4]+ list2[5])"
   ]
  },
  {
   "cell_type": "code",
   "execution_count": 40,
   "id": "5f685966-63d3-4a91-988b-c8a0f90d937f",
   "metadata": {},
   "outputs": [
    {
     "name": "stdout",
     "output_type": "stream",
     "text": [
      "-21\n"
     ]
    }
   ],
   "source": [
    "print(list[-3]-list2[-2])"
   ]
  },
  {
   "cell_type": "code",
   "execution_count": 12,
   "id": "97106370-4154-41c2-a592-abd3aa8f2461",
   "metadata": {},
   "outputs": [
    {
     "name": "stdout",
     "output_type": "stream",
     "text": [
      "[7]\n"
     ]
    }
   ],
   "source": [
    "# 3D dimensional array\n",
    "import numpy as np\n",
    "arr = np.array([[[9,2,3,4],\n",
    "                 [4,6,0,1],\n",
    "                 [6,2,1,7],\n",
    "                 [5,3,7,9]]])\n",
    "print(arr[0:4,2,3])"
   ]
  },
  {
   "cell_type": "code",
   "execution_count": 21,
   "id": "6d08dc33-23a3-40c0-9e1f-3ed69ea11d76",
   "metadata": {},
   "outputs": [
    {
     "name": "stdout",
     "output_type": "stream",
     "text": [
      "[42]\n"
     ]
    }
   ],
   "source": [
    "arr = np.array([[[89,34,23],\n",
    "                 [71,23,50],\n",
    "                 [32,42,10]]])\n",
    "\n",
    "                \n",
    "print(arr[0:3,2,1])"
   ]
  },
  {
   "cell_type": "code",
   "execution_count": 26,
   "id": "84a1336b-7681-4986-a4bd-2e42627030eb",
   "metadata": {},
   "outputs": [
    {
     "name": "stdout",
     "output_type": "stream",
     "text": [
      "[[[ 1  2  3  4  5]\n",
      "  [ 6  7  8  9 10]\n",
      "  [11 12 13 14 15]]\n",
      "\n",
      " [[16 17 18 19 20]\n",
      "  [21 22 23 24 25]\n",
      "  [26 27 28 29 30]]]\n"
     ]
    }
   ],
   "source": [
    "s = np.array([[[1,2,3,4,5],\n",
    "               [6,7,8,9,10],\n",
    "               [11,12,13,14,15]],\n",
    "\n",
    "              [[16,17,18,19,20],\n",
    "               [21,22,23,24,25],\n",
    "               [26,27,28,29,30]]])\n",
    "print(s[0:5, :, :] )"
   ]
  },
  {
   "cell_type": "code",
   "execution_count": 27,
   "id": "cb8c8abd-5f87-4a87-ac32-24db05a698f0",
   "metadata": {},
   "outputs": [
    {
     "name": "stdout",
     "output_type": "stream",
     "text": [
      "[[ 1  2  3  4  5]\n",
      " [ 6  7  8  9 10]\n",
      " [11 12 13 14 15]]\n"
     ]
    }
   ],
   "source": [
    "print(s[0, :, :])"
   ]
  },
  {
   "cell_type": "code",
   "execution_count": 38,
   "id": "39ddb9cd-62fd-4524-bb62-620b9c0db0b1",
   "metadata": {},
   "outputs": [
    {
     "name": "stdout",
     "output_type": "stream",
     "text": [
      "[14 29]\n"
     ]
    }
   ],
   "source": [
    "print(s[0:5, 2 ,3]) "
   ]
  },
  {
   "cell_type": "code",
   "execution_count": null,
   "id": "f9b84af3-67b3-4fb1-b04a-6b16b35c7900",
   "metadata": {},
   "outputs": [],
   "source": []
  }
 ],
 "metadata": {
  "kernelspec": {
   "display_name": "Python 3 (ipykernel)",
   "language": "python",
   "name": "python3"
  },
  "language_info": {
   "codemirror_mode": {
    "name": "ipython",
    "version": 3
   },
   "file_extension": ".py",
   "mimetype": "text/x-python",
   "name": "python",
   "nbconvert_exporter": "python",
   "pygments_lexer": "ipython3",
   "version": "3.11.7"
  }
 },
 "nbformat": 4,
 "nbformat_minor": 5
}
