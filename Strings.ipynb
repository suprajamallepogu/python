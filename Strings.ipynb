{
 "cells": [
  {
   "cell_type": "markdown",
   "id": "fc4eaedd-d72a-4487-991f-e234570e2afc",
   "metadata": {},
   "source": [
    "# strings methods"
   ]
  },
  {
   "cell_type": "markdown",
   "id": "4608fe00-fdb7-404c-93ae-de3bc060915b",
   "metadata": {},
   "source": [
    "1. capitalize(): Capitalizes the first character of the string.\n",
    "\n"
   ]
  },
  {
   "cell_type": "code",
   "execution_count": 2,
   "id": "ed1e348e-d5c4-4a7c-bd2d-a4fa361ec8fe",
   "metadata": {},
   "outputs": [
    {
     "name": "stdout",
     "output_type": "stream",
     "text": [
      "Hello world\n"
     ]
    }
   ],
   "source": [
    "string = \"hello world\"\n",
    "capitalized_string = string.capitalize()\n",
    "print(capitalized_string)"
   ]
  },
  {
   "cell_type": "markdown",
   "id": "b70eed1b-e592-4625-9c6f-3a6ced14413a",
   "metadata": {},
   "source": [
    "2. isalnum(): Returns True if all characters in the string are alphanumeric."
   ]
  },
  {
   "cell_type": "code",
   "execution_count": 3,
   "id": "fbb7207b-2db0-4f3c-aca9-7ad05a172c68",
   "metadata": {},
   "outputs": [
    {
     "name": "stdout",
     "output_type": "stream",
     "text": [
      "True\n"
     ]
    }
   ],
   "source": [
    "string = \"hello123\"\n",
    "print(string.isalnum())  "
   ]
  },
  {
   "cell_type": "code",
   "execution_count": 7,
   "id": "0596acc5-5b9a-4e54-95b2-d87f695b9a25",
   "metadata": {},
   "outputs": [
    {
     "name": "stdout",
     "output_type": "stream",
     "text": [
      "True\n"
     ]
    }
   ],
   "source": [
    "string = 'hi'\n",
    "print(string.isalnum())"
   ]
  },
  {
   "cell_type": "code",
   "execution_count": 8,
   "id": "87c49cf2-60d4-46d7-bf53-31ea8b495cc5",
   "metadata": {},
   "outputs": [
    {
     "name": "stdout",
     "output_type": "stream",
     "text": [
      "False\n"
     ]
    }
   ],
   "source": [
    "string = '#hi123'\n",
    "print(string.isalnum())"
   ]
  },
  {
   "cell_type": "markdown",
   "id": "97d78e5f-cf19-4b23-ac1f-01aea537929c",
   "metadata": {},
   "source": [
    "3. isdigit(): Returns True if all characters in the string are digits."
   ]
  },
  {
   "cell_type": "code",
   "execution_count": 4,
   "id": "6d4dd997-6c27-4b00-b4ce-60a7bba082fe",
   "metadata": {},
   "outputs": [
    {
     "name": "stdout",
     "output_type": "stream",
     "text": [
      "True\n"
     ]
    }
   ],
   "source": [
    "string = \"123\"\n",
    "print(string.isdigit())  "
   ]
  },
  {
   "cell_type": "code",
   "execution_count": 5,
   "id": "976b5232-6633-46a6-99cc-2b468144ee0d",
   "metadata": {},
   "outputs": [
    {
     "name": "stdout",
     "output_type": "stream",
     "text": [
      "False\n"
     ]
    }
   ],
   "source": [
    "string = 'supraja'\n",
    "print(string.isdigit()) "
   ]
  },
  {
   "cell_type": "markdown",
   "id": "68e299ab-3c35-490b-82fa-f6c6e9fd5d6c",
   "metadata": {},
   "source": [
    "4. casefold(): Converts string into lower case."
   ]
  },
  {
   "cell_type": "code",
   "execution_count": 9,
   "id": "5ba99e52-cebb-40e6-88ae-09e221127c34",
   "metadata": {},
   "outputs": [
    {
     "name": "stdout",
     "output_type": "stream",
     "text": [
      "hello world\n"
     ]
    }
   ],
   "source": [
    "string = \"Hello WORLD\"\n",
    "casefolded_string = string.casefold()\n",
    "print(casefolded_string)"
   ]
  },
  {
   "cell_type": "markdown",
   "id": "4cf777e8-6558-4116-9b51-761fcfb9bed5",
   "metadata": {},
   "source": [
    "5. chr(i): Returns a Unicode character from an integer."
   ]
  },
  {
   "cell_type": "code",
   "execution_count": 10,
   "id": "d543e4f9-6c59-43fa-85fd-8b23fd024883",
   "metadata": {},
   "outputs": [
    {
     "name": "stdout",
     "output_type": "stream",
     "text": [
      "A\n"
     ]
    }
   ],
   "source": [
    "unicode_code_point = 65\n",
    "character = chr(unicode_code_point)\n",
    "print(character)"
   ]
  },
  {
   "cell_type": "markdown",
   "id": "51a76e88-7a18-4915-ad50-a8071eed029f",
   "metadata": {},
   "source": [
    "6.isalpha(): Returns True if all characters in the string are alphabetic.\n"
   ]
  },
  {
   "cell_type": "code",
   "execution_count": 13,
   "id": "77bb78a6-de2e-4869-ba31-2a249ed30504",
   "metadata": {},
   "outputs": [
    {
     "name": "stdout",
     "output_type": "stream",
     "text": [
      "True\n",
      "False\n"
     ]
    }
   ],
   "source": [
    "string1 = \"HelloWorld\"\n",
    "string2 = \"Hello123\"\n",
    "\n",
    "print(string1.isalpha())  # Output: True, because all characters are alphabetic\n",
    "print(string2.isalpha())"
   ]
  },
  {
   "cell_type": "code",
   "execution_count": null,
   "id": "a7a942b7-7bae-469a-8ba8-3ebc0f787fed",
   "metadata": {},
   "outputs": [],
   "source": [
    "7.format_map(mapping): Formats string using dictionary mapping."
   ]
  },
  {
   "cell_type": "code",
   "execution_count": 14,
   "id": "9d238bb3-04ee-450e-913d-1de2b9013771",
   "metadata": {},
   "outputs": [
    {
     "name": "stdout",
     "output_type": "stream",
     "text": [
      "Name: Alice, Age: 30\n"
     ]
    }
   ],
   "source": [
    "person = {'name': 'Alice', 'age': 30}\n",
    "\n",
    "# Use format_map to format a string\n",
    "formatted_string = \"Name: {name}, Age: {age}\".format_map(person)\n",
    "\n",
    "print(formatted_string)"
   ]
  },
  {
   "cell_type": "code",
   "execution_count": null,
   "id": "1d48f380-bdaa-4540-afaa-38a5e7af6770",
   "metadata": {},
   "outputs": [],
   "source": [
    "8. swapcase(): Swaps cases, lower case becomes upper case and vice versa."
   ]
  },
  {
   "cell_type": "code",
   "execution_count": 15,
   "id": "508e961c-9ca8-4c53-b40e-96b5f06ce878",
   "metadata": {},
   "outputs": [
    {
     "name": "stdout",
     "output_type": "stream",
     "text": [
      "hELLO wORLD\n"
     ]
    }
   ],
   "source": [
    "string = \"Hello World\"\n",
    "swapped_string = string.swapcase()\n",
    "print(swapped_string) "
   ]
  },
  {
   "cell_type": "code",
   "execution_count": null,
   "id": "41d125f7-202b-43ad-b18a-3a73760b8065",
   "metadata": {},
   "outputs": [],
   "source": []
  }
 ],
 "metadata": {
  "kernelspec": {
   "display_name": "Python 3 (ipykernel)",
   "language": "python",
   "name": "python3"
  },
  "language_info": {
   "codemirror_mode": {
    "name": "ipython",
    "version": 3
   },
   "file_extension": ".py",
   "mimetype": "text/x-python",
   "name": "python",
   "nbconvert_exporter": "python",
   "pygments_lexer": "ipython3",
   "version": "3.11.7"
  }
 },
 "nbformat": 4,
 "nbformat_minor": 5
}
