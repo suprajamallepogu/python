{
 "cells": [
  {
   "cell_type": "markdown",
   "id": "3ce3ec65-888f-492f-956e-d9b164e62134",
   "metadata": {},
   "source": [
    "# python operators"
   ]
  },
  {
   "cell_type": "markdown",
   "id": "917fedc4-d154-4e2e-aef1-727aa6f8121b",
   "metadata": {},
   "source": [
    "- operators are used to perform oprations on values/variables.\n",
    "- python divides the opertors in the following groups:\n",
    " \n",
    "-Arthimetic operators\n",
    "\n",
    "-Assignment operators\n",
    "\n",
    "-Comparison operators\n",
    "\n",
    "-Logical operators\n",
    "\n",
    "-Identity operators\n",
    "\n",
    "-Membership operators\n",
    "\n",
    "-Bitwise operators"
   ]
  },
  {
   "cell_type": "markdown",
   "id": "63002a3c-4826-41dc-887c-13ee9877ae73",
   "metadata": {},
   "source": [
    "# Arithmetic operators"
   ]
  },
  {
   "cell_type": "markdown",
   "id": "da56c03b-b5c4-4bfd-8994-db3becf061be",
   "metadata": {},
   "source": [
    "- Arthmetic operators are used with numeric values to perform common mathematical operators\n",
    "- It can be divided following groups"
   ]
  },
  {
   "cell_type": "markdown",
   "id": "34f81360-4818-4baa-9db4-9736f0c172f5",
   "metadata": {},
   "source": [
    "1. Addition      (+)\n",
    "2. Subtraction   (-)\n",
    "3. Multiplication(*)\n",
    "4. Division      (/)--> quoficient\n",
    "5. Modulus       (%)-->remainder\n",
    "6. Exponention   (**)\n",
    "7. Floor         (//)"
   ]
  },
  {
   "cell_type": "code",
   "execution_count": 1,
   "id": "67bc009b-29a3-49f9-acd5-ce111dfc0ada",
   "metadata": {},
   "outputs": [],
   "source": [
    "a = 98\n",
    "b = 67"
   ]
  },
  {
   "cell_type": "code",
   "execution_count": 2,
   "id": "9db39d24-6fcf-4fd8-bc69-9416e11dc558",
   "metadata": {},
   "outputs": [
    {
     "name": "stdout",
     "output_type": "stream",
     "text": [
      "165\n"
     ]
    }
   ],
   "source": [
    "# Addition\n",
    "c = a+b\n",
    "print(c)"
   ]
  },
  {
   "cell_type": "code",
   "execution_count": 3,
   "id": "c8b7fd7a-4c22-4192-bba4-f2f40b4735dc",
   "metadata": {},
   "outputs": [
    {
     "name": "stdout",
     "output_type": "stream",
     "text": [
      "31\n"
     ]
    }
   ],
   "source": [
    "# Subtraction\n",
    "d = a-b\n",
    "print(d)"
   ]
  },
  {
   "cell_type": "code",
   "execution_count": 4,
   "id": "3fdd2317-33cf-4faf-8111-c5a8a3458cab",
   "metadata": {},
   "outputs": [
    {
     "name": "stdout",
     "output_type": "stream",
     "text": [
      "6566\n"
     ]
    }
   ],
   "source": [
    "# Multiplication\n",
    "e = a*b\n",
    "print(e)"
   ]
  },
  {
   "cell_type": "code",
   "execution_count": 5,
   "id": "2fdcf090-6e11-4804-9472-c7ec3edebb1b",
   "metadata": {},
   "outputs": [
    {
     "name": "stdout",
     "output_type": "stream",
     "text": [
      "1.462686567164179\n"
     ]
    }
   ],
   "source": [
    "# Division\n",
    "f = a/b\n",
    "print(f)"
   ]
  },
  {
   "cell_type": "code",
   "execution_count": 6,
   "id": "19eb5692-2b39-465d-ac7a-5f364abbfbf5",
   "metadata": {},
   "outputs": [
    {
     "name": "stdout",
     "output_type": "stream",
     "text": [
      "31\n"
     ]
    }
   ],
   "source": [
    "# Modulus\n",
    "g = a%b\n",
    "print(g)"
   ]
  },
  {
   "cell_type": "code",
   "execution_count": 7,
   "id": "11220ca0-fb38-4207-bc67-a04b01f7f8b8",
   "metadata": {},
   "outputs": [
    {
     "name": "stdout",
     "output_type": "stream",
     "text": [
      "25831348066883467674036915931103142510867892970950457149670251202300922928406358804170824666939032948920370791965486060830954327375872\n"
     ]
    }
   ],
   "source": [
    "# Exponention\n",
    "h = a**b\n",
    "print(h)"
   ]
  },
  {
   "cell_type": "code",
   "execution_count": 8,
   "id": "70a79096-8915-4d45-869d-612da6372926",
   "metadata": {},
   "outputs": [
    {
     "name": "stdout",
     "output_type": "stream",
     "text": [
      "1\n"
     ]
    }
   ],
   "source": [
    "# Floor\n",
    "i = a//b\n",
    "print(i)"
   ]
  },
  {
   "cell_type": "markdown",
   "id": "df66acdb-c017-4ef1-9aeb-d7f5ec1aeb00",
   "metadata": {},
   "source": [
    "# Assignment operators"
   ]
  },
  {
   "cell_type": "markdown",
   "id": "9f96e231-0682-4cc0-843b-f1e2615108d7",
   "metadata": {},
   "source": [
    "- Assignment operators are used to assign values to variables"
   ]
  },
  {
   "cell_type": "markdown",
   "id": "8f371df5-293c-498e-9f80-accb900dfbea",
   "metadata": {},
   "source": [
    "1. Assignment operators  (=)\n",
    "2. Addition assignment   (+=)\n",
    "3. Subtraction assignment(-=)\n",
    "4. Multiplication assignment(*=)\n",
    "5. Division assignment(/=)\n",
    "6. Remainder assignment (%=)\n",
    "7. Exponentional assignment(**=)"
   ]
  },
  {
   "cell_type": "code",
   "execution_count": 14,
   "id": "5a53d0a5-9189-4cad-b7e5-7caab72fa2e8",
   "metadata": {},
   "outputs": [
    {
     "name": "stdout",
     "output_type": "stream",
     "text": [
      "99\n"
     ]
    }
   ],
   "source": [
    "# assign 56 to a\n",
    "a = 56\n",
    "\n",
    "# assign 43 to b\n",
    "b = 43\n",
    "\n",
    "# assign the sum of a and b to a\n",
    "a +=b  # a =a+b\n",
    "print(a) "
   ]
  },
  {
   "cell_type": "code",
   "execution_count": 15,
   "id": "407ed403-03f4-4a9c-821b-c176f88e3b84",
   "metadata": {},
   "outputs": [
    {
     "name": "stdout",
     "output_type": "stream",
     "text": [
      "-22\n"
     ]
    }
   ],
   "source": [
    "# assign 45 to a\n",
    "a = 45\n",
    "# assign 67 to b\n",
    "b = 67\n",
    "\n",
    "# assign the sub of a and b to a\n",
    "a -=b  #a = a-b\n",
    "print(a)  "
   ]
  },
  {
   "cell_type": "code",
   "execution_count": 16,
   "id": "c993c340-0e92-4b90-a304-01f7154fba3b",
   "metadata": {},
   "outputs": [
    {
     "name": "stdout",
     "output_type": "stream",
     "text": [
      "52884\n"
     ]
    }
   ],
   "source": [
    "a = 678\n",
    "b = 78\n",
    "a*=b # a =a*b\n",
    "print(a) \n"
   ]
  },
  {
   "cell_type": "code",
   "execution_count": 17,
   "id": "e694bc2a-db12-451c-9d88-3ca3c5b7f41b",
   "metadata": {},
   "outputs": [
    {
     "name": "stdout",
     "output_type": "stream",
     "text": [
      "1.328358208955224\n"
     ]
    }
   ],
   "source": [
    "# assign 89 to a\n",
    "a = 89\n",
    "# assign 67 to b\n",
    "b = 67\n",
    "\n",
    "# assign the division of a and b to a\n",
    "a /=b  #a = a/b\n",
    "print(a)  "
   ]
  },
  {
   "cell_type": "code",
   "execution_count": 18,
   "id": "7325e9aa-40c7-4a97-ac05-4488756c6fe5",
   "metadata": {},
   "outputs": [
    {
     "name": "stdout",
     "output_type": "stream",
     "text": [
      "22\n"
     ]
    }
   ],
   "source": [
    "# assign 678 to a\n",
    "a = 678\n",
    "# assign 82 to b\n",
    "b = 82\n",
    "\n",
    "# assign the modulus of a and b to a\n",
    "a %=b  #a = a%b\n",
    "print(a)  "
   ]
  },
  {
   "cell_type": "code",
   "execution_count": 19,
   "id": "dc4e38f2-22bb-44da-8977-a70838e04d15",
   "metadata": {},
   "outputs": [
    {
     "name": "stdout",
     "output_type": "stream",
     "text": [
      "5279904932803246753895546893531471148779986471872472634458566639354341482500302957896466880706797986221163775732351639080015012060214280608517427038836300080040835210756542012997078673029718259654119872770363809930454906824732067972432889250569546334430280118792680513582541021633338437531318345890462867773035092812698658121383793736084776912075485338291382262736403756632926650759043005203263348282300731354748393116847658180249648927279988098631471313729389573531839417168964044088017295692656377731491179878776959686782858440445945052517614593837087833600651014505522257416314728882789959783003881016026039433369732562053973404248775205717436277689683681548072734839903143639232894262661610881\n"
     ]
    }
   ],
   "source": [
    "# assign 41 to a\n",
    "a = 41\n",
    "# assign 90 to b\n",
    "b = 432\n",
    "\n",
    "# assign the exponent of a and b to a\n",
    "a **=b  #a = a**b\n",
    "print(a)  \n",
    "\n"
   ]
  },
  {
   "cell_type": "markdown",
   "id": "28af3d0a-c40c-4cea-922a-d03fad3d26ca",
   "metadata": {},
   "source": [
    "# Comparison operators"
   ]
  },
  {
   "cell_type": "markdown",
   "id": "cdaadd46-8c30-4cf0-bbc9-eaaeaf6e1e8f",
   "metadata": {},
   "source": [
    "- comparison operators compare two values or variables and return a boolean result: True or False\n",
    "    \n",
    "1. ==   is equal to\n",
    "2. !=  not equal\n",
    "3. <  less than\n",
    "4. >  greater than\n",
    "5. <=  lessthan or equal to\n",
    "6. >=   greaterthan or equal to"
   ]
  },
  {
   "cell_type": "code",
   "execution_count": 22,
   "id": "a49de27f-8ef3-4384-9202-0b268fe3ed6e",
   "metadata": {},
   "outputs": [
    {
     "name": "stdout",
     "output_type": "stream",
     "text": [
      "False\n"
     ]
    }
   ],
   "source": [
    "a = 459\n",
    "b = 761\n",
    "\n",
    "#equal to operators\n",
    "print(a==b)"
   ]
  },
  {
   "cell_type": "code",
   "execution_count": 25,
   "id": "3399bfa5-b7d7-4609-9dbf-1dea37123a3f",
   "metadata": {},
   "outputs": [
    {
     "name": "stdout",
     "output_type": "stream",
     "text": [
      "a!=b True\n"
     ]
    }
   ],
   "source": [
    "# not equal to\n",
    "print('a!=b', a!=b)"
   ]
  },
  {
   "cell_type": "code",
   "execution_count": 26,
   "id": "ca44943d-d6f6-47d9-93d0-9d5e42aa9751",
   "metadata": {},
   "outputs": [
    {
     "name": "stdout",
     "output_type": "stream",
     "text": [
      "a<b True\n"
     ]
    }
   ],
   "source": [
    "# less than\n",
    "print('a<b', a<b)"
   ]
  },
  {
   "cell_type": "code",
   "execution_count": 27,
   "id": "d50de280-91f4-4086-a713-fb0a9784bd33",
   "metadata": {},
   "outputs": [
    {
     "name": "stdout",
     "output_type": "stream",
     "text": [
      "a>b False\n"
     ]
    }
   ],
   "source": [
    "# greater than\n",
    "print('a>b', a>b)"
   ]
  },
  {
   "cell_type": "code",
   "execution_count": 28,
   "id": "9a99e9e8-5df5-4747-bf84-9b4e32b63f5e",
   "metadata": {},
   "outputs": [
    {
     "name": "stdout",
     "output_type": "stream",
     "text": [
      "a<=b True\n"
     ]
    }
   ],
   "source": [
    "# lessthan or equal to\n",
    "print('a<=b', a<=b)"
   ]
  },
  {
   "cell_type": "code",
   "execution_count": 29,
   "id": "d0c8e3f0-6ba2-4404-a2d4-393909f993d4",
   "metadata": {},
   "outputs": [
    {
     "name": "stdout",
     "output_type": "stream",
     "text": [
      "a>=b False\n"
     ]
    }
   ],
   "source": [
    "#greaterthan or equalto\n",
    "print('a>=b', a>=b)"
   ]
  },
  {
   "cell_type": "markdown",
   "id": "031b25c1-f6ba-4dae-8a27-c4c76adc822f",
   "metadata": {},
   "source": [
    "# logical operators"
   ]
  },
  {
   "cell_type": "markdown",
   "id": "2d1368ed-1d98-49ff-a37e-f578ae52ee5e",
   "metadata": {},
   "source": [
    "- logical operators are used to check whether an expression is True or False\n",
    "- python logical operators are used to compile two or more conditions and check the final result"
   ]
  },
  {
   "cell_type": "markdown",
   "id": "f55003d8-3876-4561-aa5f-d37a25acfa65",
   "metadata": {},
   "source": [
    "- AND : Returns true if both the operands are true\n",
    "- OR  : Returns true if one of the oprand is ture\n",
    "- NOT : Returns true if operand is false and also false if operand is true "
   ]
  },
  {
   "cell_type": "code",
   "execution_count": 3,
   "id": "8f7fcac7-1ee3-4683-8634-4f49cfa3f72a",
   "metadata": {},
   "outputs": [
    {
     "name": "stdout",
     "output_type": "stream",
     "text": [
      "True\n"
     ]
    }
   ],
   "source": [
    "# AND operator\n",
    "print(7>3 and 5<6)"
   ]
  },
  {
   "cell_type": "code",
   "execution_count": 4,
   "id": "97a8c692-6ad1-4b5f-b85e-b2b07c3477d8",
   "metadata": {},
   "outputs": [
    {
     "name": "stdout",
     "output_type": "stream",
     "text": [
      "True\n"
     ]
    }
   ],
   "source": [
    "print(45<78 and 90>21)"
   ]
  },
  {
   "cell_type": "code",
   "execution_count": 8,
   "id": "3d272838-288c-4a71-b820-a778490d1d0a",
   "metadata": {},
   "outputs": [
    {
     "name": "stdout",
     "output_type": "stream",
     "text": [
      "True\n"
     ]
    }
   ],
   "source": [
    "print(654>456 and 789<987)"
   ]
  },
  {
   "cell_type": "code",
   "execution_count": 9,
   "id": "371371af-6ed6-4e88-a4ea-17f1b3c568b4",
   "metadata": {},
   "outputs": [
    {
     "name": "stdout",
     "output_type": "stream",
     "text": [
      "True\n",
      "True\n",
      "True\n"
     ]
    }
   ],
   "source": [
    "#OR operator\n",
    "print(5>10 or 5<9)\n",
    "print(59>43 or 89<90)\n",
    "print(678>897 or 368<900)"
   ]
  },
  {
   "cell_type": "code",
   "execution_count": 31,
   "id": "10717315-96d3-4443-be1d-73790176fe7e",
   "metadata": {},
   "outputs": [
    {
     "name": "stdout",
     "output_type": "stream",
     "text": [
      "False\n",
      "False\n"
     ]
    }
   ],
   "source": [
    "#NOT operator\n",
    "x=90\n",
    "print(not(x>70 and x<91))\n",
    "print(not(x>89 or x<56))"
   ]
  },
  {
   "cell_type": "markdown",
   "id": "35a90f61-91bc-49f3-b58d-f3d4c0b0bd46",
   "metadata": {},
   "source": [
    "# Identity operators"
   ]
  },
  {
   "cell_type": "markdown",
   "id": "7d0073e1-8b81-4e1f-aaac-42da08d1cc13",
   "metadata": {},
   "source": [
    "- Identity whether the value is present or not"
   ]
  },
  {
   "cell_type": "markdown",
   "id": "526691c2-27a0-4833-8b43-5572ba0a0da0",
   "metadata": {},
   "source": [
    "- is :    true-if the operands are identical(refer to the same object)\n",
    "- is not: true-if the operands are not identical"
   ]
  },
  {
   "cell_type": "code",
   "execution_count": 35,
   "id": "6814c534-2405-484a-9d1f-4703954c6f8f",
   "metadata": {},
   "outputs": [
    {
     "name": "stdout",
     "output_type": "stream",
     "text": [
      "False\n",
      "False\n",
      "True\n"
     ]
    }
   ],
   "source": [
    "#example\n",
    "x1 = 7\n",
    "x2 = 37\n",
    "y1 = 'Good'\n",
    "y2 = 'Good morning'\n",
    "\n",
    "print(x1 is x2)\n",
    "print(y1 is y2)\n",
    "print(x1 is not y2) "
   ]
  },
  {
   "cell_type": "markdown",
   "id": "fa26c91e-bc19-464f-bf17-b3cd696ea5ef",
   "metadata": {},
   "source": [
    "# Membership operator\n",
    "- They are used to test whether a value or variable is found in sequence or not\n",
    "- in : true-if value/variable is found in the sequence\n",
    "- not in: true-if value/variable is not founds in the sequence  "
   ]
  },
  {
   "cell_type": "code",
   "execution_count": 7,
   "id": "9666c54a-d3b4-415f-b951-92fafdd99ae4",
   "metadata": {},
   "outputs": [
    {
     "name": "stdout",
     "output_type": "stream",
     "text": [
      "True\n",
      "True\n",
      "False\n",
      "False\n"
     ]
    }
   ],
   "source": [
    "#example\n",
    "x = (1,2,3,4,5,6)\n",
    "y = 'Hello world'\n",
    "print(6 in x)\n",
    "print('H' in y)\n",
    "print('W' in y)\n",
    "print(2 not in x)"
   ]
  },
  {
   "cell_type": "markdown",
   "id": "7b2ba890-f2f2-418d-95f4-80f77db44df2",
   "metadata": {},
   "source": [
    "# Bitwise operators\n",
    "- Bitwise operators acts on operand as if they were strings of binary digits. \n",
    "- They operate bit by bit hence the name"
   ]
  },
  {
   "cell_type": "code",
   "execution_count": null,
   "id": "e3d84831-1708-490b-a334-3b557e1a64cc",
   "metadata": {},
   "outputs": [],
   "source": [
    "1. &--> AND--> sets each bit to 1 it boths bits are 1 -->  x & y\n",
    "2. |--> OR--> sets eachbit to 1 if one of two bits is 1 --> x | y\n",
    "3. ^--> XOR--> sets each bit to 1 if only one of two bits is 1 --> x ^ y\n",
    "4. ~--> NOT--> inverts all the bits --> ~x (-n+1)\n",
    "5. <<-->zero fill leftshift--> shift left by pushing zeros in from the right and let the left most bits fall off -->x<<2\n",
    "6. >>-->signed right shift-->shift right by pushing copies of the left most bits in from the left and left the right most bits falls off -->x"
   ]
  }
 ],
 "metadata": {
  "kernelspec": {
   "display_name": "Python 3 (ipykernel)",
   "language": "python",
   "name": "python3"
  },
  "language_info": {
   "codemirror_mode": {
    "name": "ipython",
    "version": 3
   },
   "file_extension": ".py",
   "mimetype": "text/x-python",
   "name": "python",
   "nbconvert_exporter": "python",
   "pygments_lexer": "ipython3",
   "version": "3.11.7"
  }
 },
 "nbformat": 4,
 "nbformat_minor": 5
}
