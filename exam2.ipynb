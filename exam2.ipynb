{
 "cells": [
  {
   "cell_type": "markdown",
   "id": "5a1ead0d-ace3-4a39-8412-22a93137558e",
   "metadata": {},
   "source": [
    "# prime number"
   ]
  },
  {
   "cell_type": "code",
   "execution_count": 3,
   "id": "01ff938f-3225-4d2e-8353-714b79d16637",
   "metadata": {},
   "outputs": [
    {
     "name": "stdout",
     "output_type": "stream",
     "text": [
      "not a prime number\n",
      "it is aprime number\n",
      "not a prime number\n",
      "not a prime number\n",
      "not a prime number\n",
      "not a prime number\n",
      "not a prime number\n",
      "not a prime number\n",
      "not a prime number\n",
      "not a prime number\n"
     ]
    }
   ],
   "source": [
    "list = [1,2,3,4,5,6,7,8,9,10]\n",
    "for i in list:\n",
    "    if i ==2:\n",
    "        print(\"it is aprime number\")\n",
    "    else:\n",
    "        print(\"not a prime number\")"
   ]
  },
  {
   "cell_type": "code",
   "execution_count": 11,
   "id": "a632af95-983d-4f5e-b9eb-79510099e5ff",
   "metadata": {},
   "outputs": [
    {
     "name": "stdout",
     "output_type": "stream",
     "text": [
      "<class 'str'>\n"
     ]
    }
   ],
   "source": [
    "my_list = [7,89,45,90]\n",
    "print(\"largest number\")     "
   ]
  },
  {
   "cell_type": "markdown",
   "id": "e0239f25-4b6a-4779-99e4-6f4f52fdc131",
   "metadata": {},
   "source": [
    "# char of a string"
   ]
  },
  {
   "cell_type": "code",
   "execution_count": 13,
   "id": "9a118e61-c426-45da-b233-416f5cb591be",
   "metadata": {},
   "outputs": [
    {
     "name": "stdout",
     "output_type": "stream",
     "text": [
      "['a', 'b', 'c', 'e', 'e', 'p', 'q', 'u']\n"
     ]
    }
   ],
   "source": [
    "characters = [\"a\",\"b\",\"e\",\"c\",\"u\",\"q\",\"p\",\"e\"]\n",
    "characters.sort()\n",
    "print(characters)"
   ]
  },
  {
   "cell_type": "markdown",
   "id": "a0fe1aeb-1948-4dd1-ae3b-a24ee51bc0c6",
   "metadata": {},
   "source": [
    "# reverse a string"
   ]
  },
  {
   "cell_type": "code",
   "execution_count": 16,
   "id": "96965ba4-6ffb-4e3f-bc2e-1d4be9ebd9bf",
   "metadata": {},
   "outputs": [
    {
     "name": "stdout",
     "output_type": "stream",
     "text": [
      "['guava', 'mango', 'banana', 'cherry', 'apple']\n"
     ]
    }
   ],
   "source": [
    "fruits = ['apple','cherry','banana','mango','guava']\n",
    "fruits.reverse()\n",
    "print(fruits)"
   ]
  },
  {
   "cell_type": "markdown",
   "id": "4a757254-a948-4e94-a4ca-3eb84f629054",
   "metadata": {},
   "source": [
    "# square of two numbers"
   ]
  },
  {
   "cell_type": "code",
   "execution_count": 24,
   "id": "2303602a-cf93-40a7-98c5-f15fb9214aaa",
   "metadata": {},
   "outputs": [
    {
     "data": {
      "text/plain": [
       "21"
      ]
     },
     "execution_count": 24,
     "metadata": {},
     "output_type": "execute_result"
    }
   ],
   "source": [
    "def square(n1,n2):\n",
    "    result = n1 * n2\n",
    "    return result\n",
    "\n",
    "square(7,3)"
   ]
  },
  {
   "cell_type": "code",
   "execution_count": null,
   "id": "86f29069-3037-4417-9764-e5722430aae4",
   "metadata": {},
   "outputs": [],
   "source": []
  }
 ],
 "metadata": {
  "kernelspec": {
   "display_name": "Python 3 (ipykernel)",
   "language": "python",
   "name": "python3"
  },
  "language_info": {
   "codemirror_mode": {
    "name": "ipython",
    "version": 3
   },
   "file_extension": ".py",
   "mimetype": "text/x-python",
   "name": "python",
   "nbconvert_exporter": "python",
   "pygments_lexer": "ipython3",
   "version": "3.11.7"
  }
 },
 "nbformat": 4,
 "nbformat_minor": 5
}
