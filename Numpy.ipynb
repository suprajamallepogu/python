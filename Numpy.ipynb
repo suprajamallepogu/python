{
 "cells": [
  {
   "cell_type": "code",
   "execution_count": 34,
   "id": "2a791dd4-9d90-4c6c-bd5b-216997b8c0f6",
   "metadata": {},
   "outputs": [
    {
     "name": "stdout",
     "output_type": "stream",
     "text": [
      "Requirement already satisfied: numpy in c:\\users\\hp\\anaconda3\\lib\\site-packages (1.26.4)\n"
     ]
    }
   ],
   "source": [
    "! pip install numpy"
   ]
  },
  {
   "cell_type": "code",
   "execution_count": 35,
   "id": "8b8eab57-5ee6-4fbf-85a8-1d19ec0c8a99",
   "metadata": {},
   "outputs": [],
   "source": [
    "# one dimensional array\n",
    "import numpy as np"
   ]
  },
  {
   "cell_type": "code",
   "execution_count": 41,
   "id": "aa1c7692-56f9-45b6-afdd-cd702a0cbe3b",
   "metadata": {},
   "outputs": [
    {
     "name": "stdout",
     "output_type": "stream",
     "text": [
      "[[1.]]\n"
     ]
    }
   ],
   "source": [
    "f = np.eye(1)\n",
    "print(f)"
   ]
  },
  {
   "cell_type": "code",
   "execution_count": 114,
   "id": "08d4075d-7851-49ad-961f-2f5750a56aeb",
   "metadata": {},
   "outputs": [
    {
     "data": {
      "text/plain": [
       "array([[0., 0., 0., 0.],\n",
       "       [0., 0., 0., 0.],\n",
       "       [0., 0., 0., 0.],\n",
       "       [0., 0., 0., 0.],\n",
       "       [0., 0., 0., 0.],\n",
       "       [0., 0., 0., 0.]])"
      ]
     },
     "execution_count": 114,
     "metadata": {},
     "output_type": "execute_result"
    }
   ],
   "source": [
    "np.zeros((6,4))"
   ]
  },
  {
   "cell_type": "code",
   "execution_count": 116,
   "id": "a2385d24-72ca-426d-bb11-c0c531177e85",
   "metadata": {},
   "outputs": [
    {
     "data": {
      "text/plain": [
       "array([[1., 1., 1., 1., 1., 1., 1.],\n",
       "       [1., 1., 1., 1., 1., 1., 1.],\n",
       "       [1., 1., 1., 1., 1., 1., 1.],\n",
       "       [1., 1., 1., 1., 1., 1., 1.],\n",
       "       [1., 1., 1., 1., 1., 1., 1.],\n",
       "       [1., 1., 1., 1., 1., 1., 1.],\n",
       "       [1., 1., 1., 1., 1., 1., 1.]])"
      ]
     },
     "execution_count": 116,
     "metadata": {},
     "output_type": "execute_result"
    }
   ],
   "source": [
    "np.ones((7,7))"
   ]
  },
  {
   "cell_type": "code",
   "execution_count": 37,
   "id": "ec4f25bc-49dc-45b5-951c-12c9e2364f2f",
   "metadata": {},
   "outputs": [
    {
     "data": {
      "text/plain": [
       "array([[0.38000524]])"
      ]
     },
     "execution_count": 37,
     "metadata": {},
     "output_type": "execute_result"
    }
   ],
   "source": [
    "np.random.random((1,1))\n"
   ]
  },
  {
   "cell_type": "code",
   "execution_count": 13,
   "id": "8c1b3bdc-b55e-4443-b91d-1745196a8951",
   "metadata": {},
   "outputs": [
    {
     "name": "stdout",
     "output_type": "stream",
     "text": [
      "[100 150 200 250 300 350 400 450 500 550 600 650 700 750 800 850 900 950]\n"
     ]
    }
   ],
   "source": [
    "t = np.arange(100,1000,50)\n",
    "print(t)"
   ]
  },
  {
   "cell_type": "code",
   "execution_count": 16,
   "id": "d7b89ffb-3327-4765-8204-2ede748890c1",
   "metadata": {},
   "outputs": [
    {
     "name": "stdout",
     "output_type": "stream",
     "text": [
      "[ 5.          6.66666667  8.33333333 10.         11.66666667 13.33333333\n",
      " 15.         16.66666667 18.33333333 20.        ]\n"
     ]
    }
   ],
   "source": [
    "s = np.linspace(5,20,10)\n",
    "print(s)"
   ]
  },
  {
   "cell_type": "code",
   "execution_count": 45,
   "id": "64a8dfbe-dd1a-4c5e-8c90-afac3f0d4562",
   "metadata": {},
   "outputs": [
    {
     "name": "stdout",
     "output_type": "stream",
     "text": [
      "(2, 5)\n"
     ]
    }
   ],
   "source": [
    "# two dimensional arrays\n",
    "arr = np.array([[1,2,3,4,5],\n",
    "               [6,7,8,9,10]])\n",
    "print(arr.shape)"
   ]
  },
  {
   "cell_type": "code",
   "execution_count": 46,
   "id": "d86c0e2f-333d-43d8-9c36-d26b60d19c87",
   "metadata": {},
   "outputs": [
    {
     "name": "stdout",
     "output_type": "stream",
     "text": [
      "16\n"
     ]
    }
   ],
   "source": [
    "a =np.array([[9,2,6,1],\n",
    "             [2,9,0,1],\n",
    "             [6,7,3,10],\n",
    "             [4,6,4,5]])\n",
    "print(a.size)"
   ]
  },
  {
   "cell_type": "code",
   "execution_count": 49,
   "id": "6e586bd7-b964-4c3b-9132-a4b78fdd0b23",
   "metadata": {},
   "outputs": [
    {
     "data": {
      "text/plain": [
       "5"
      ]
     },
     "execution_count": 49,
     "metadata": {},
     "output_type": "execute_result"
    }
   ],
   "source": [
    "x = np.array([[77,8,9],\n",
    "              [56,12,74],\n",
    "              [67,98,10],\n",
    "              [23,12,7],\n",
    "              [21,23,31]])\n",
    "len(x)"
   ]
  },
  {
   "cell_type": "code",
   "execution_count": 58,
   "id": "e8918c9a-648a-4a46-ac83-f90a68cd3d74",
   "metadata": {},
   "outputs": [
    {
     "name": "stdout",
     "output_type": "stream",
     "text": [
      "(5, 4)\n"
     ]
    }
   ],
   "source": [
    "num = np.array([[1,3,67,54],\n",
    "                [89,56,23,0],\n",
    "                [23,90,78,12],\n",
    "                [99,23,12,0],\n",
    "                [78,2,4,89]])\n",
    "print(num.shape)"
   ]
  },
  {
   "cell_type": "code",
   "execution_count": 68,
   "id": "15ffab17-0241-411c-89d7-0ec0c73ac9d6",
   "metadata": {},
   "outputs": [
    {
     "name": "stdout",
     "output_type": "stream",
     "text": [
      "[[7 7 7 7]\n",
      " [7 7 7 7]\n",
      " [7 7 7 7]\n",
      " [7 7 7 7]\n",
      " [7 7 7 7]\n",
      " [7 7 7 7]]\n",
      "2\n"
     ]
    }
   ],
   "source": [
    "x= np.full((6,4),7)\n",
    "print(x)\n",
    "print(x.ndim)"
   ]
  },
  {
   "cell_type": "code",
   "execution_count": 73,
   "id": "8792927c-6c08-4423-9b65-aa65f6ceeb55",
   "metadata": {},
   "outputs": [
    {
     "name": "stdout",
     "output_type": "stream",
     "text": [
      "[[0.49614125 0.58802292 0.3302283  0.08002604]\n",
      " [0.60459107 0.72406391 0.44691601 0.59343363]\n",
      " [0.69540782 0.56271107 0.80029956 0.48754985]\n",
      " [0.06584132 0.32152647 0.93382533 0.27710553]\n",
      " [0.21009093 0.35150931 0.27771517 0.10850783]\n",
      " [0.47780527 0.82035547 0.12877878 0.7116326 ]\n",
      " [0.61656589 0.20451836 0.00736659 0.44334109]]\n"
     ]
    }
   ],
   "source": [
    "r=np.random.random((7,4))\n",
    "print(r)"
   ]
  },
  {
   "cell_type": "code",
   "execution_count": 107,
   "id": "a305fd79-ecee-420a-9c70-d95f463cb60a",
   "metadata": {},
   "outputs": [
    {
     "name": "stdout",
     "output_type": "stream",
     "text": [
      "2\n"
     ]
    }
   ],
   "source": [
    "a =np.array([[9,2,6,1],\n",
    "             [2,9,0,1],\n",
    "             [6,7,3,10],\n",
    "             [4,6,4,5]])\n",
    "print(a.ndim)"
   ]
  },
  {
   "cell_type": "code",
   "execution_count": 89,
   "id": "aab23ef3-184c-43a6-8df5-a7b2c7ba40a2",
   "metadata": {},
   "outputs": [
    {
     "name": "stdout",
     "output_type": "stream",
     "text": [
      "(1, 2, 5)\n"
     ]
    }
   ],
   "source": [
    "# three dimensional array\n",
    "arr = np.array([[[1,2,3,4,5],\n",
    "               [6,7,8,9,10]]])\n",
    "                \n",
    "print(arr.shape)"
   ]
  },
  {
   "cell_type": "code",
   "execution_count": 88,
   "id": "8a1a4c43-0bcf-4c12-9849-03ff8ae6fa1c",
   "metadata": {},
   "outputs": [
    {
     "name": "stdout",
     "output_type": "stream",
     "text": [
      "(2, 3, 4)\n"
     ]
    }
   ],
   "source": [
    "num = np.array([[[1,3,67,54],\n",
    "                [89,56,23,0],\n",
    "                [23,90,78,12]],\n",
    "                 \n",
    "                [[99,23,12,0],\n",
    "                [78,2,4,89],\n",
    "                [9,8,1,4]]])\n",
    "print(num.shape)"
   ]
  },
  {
   "cell_type": "code",
   "execution_count": 90,
   "id": "f4df71ea-060f-4c5e-b288-1834f8e51057",
   "metadata": {},
   "outputs": [
    {
     "name": "stdout",
     "output_type": "stream",
     "text": [
      "12\n"
     ]
    }
   ],
   "source": [
    "dim = np.array([[[23,45],\n",
    "                 [23,67],\n",
    "                 [45,12]],\n",
    "\n",
    "                [[34,56],\n",
    "                 [12,34],\n",
    "                 [0,90]]])\n",
    "print(dim.size)"
   ]
  },
  {
   "cell_type": "code",
   "execution_count": 101,
   "id": "880d1fa9-4e74-44fc-a493-e0cdde0706a4",
   "metadata": {},
   "outputs": [
    {
     "name": "stdout",
     "output_type": "stream",
     "text": [
      "3\n"
     ]
    }
   ],
   "source": [
    "m = np.array([[[12,34,56],\n",
    "                [45,12,56],\n",
    "                [90,89,97],\n",
    "                [34,67,54],\n",
    "                [67,89,13]]])\n",
    "print(m.ndim)"
   ]
  },
  {
   "cell_type": "code",
   "execution_count": 106,
   "id": "fd0120ff-8a6e-461c-ab27-9e1586450e5e",
   "metadata": {},
   "outputs": [
    {
     "data": {
      "text/plain": [
       "1"
      ]
     },
     "execution_count": 106,
     "metadata": {},
     "output_type": "execute_result"
    }
   ],
   "source": [
    "m = np.array([[[12,34,56],\n",
    "                [45,12,56],\n",
    "                [90,89,97],\n",
    "                [34,67,54],\n",
    "                [67,89,13]]])\n",
    "len(m)"
   ]
  },
  {
   "cell_type": "code",
   "execution_count": null,
   "id": "c1d1b66f-653c-484a-8701-0e196e5db8e3",
   "metadata": {},
   "outputs": [],
   "source": []
  },
  {
   "cell_type": "code",
   "execution_count": null,
   "id": "e4b40a40-e0e3-4738-b030-e250315efd6c",
   "metadata": {},
   "outputs": [],
   "source": []
  }
 ],
 "metadata": {
  "kernelspec": {
   "display_name": "Python 3 (ipykernel)",
   "language": "python",
   "name": "python3"
  },
  "language_info": {
   "codemirror_mode": {
    "name": "ipython",
    "version": 3
   },
   "file_extension": ".py",
   "mimetype": "text/x-python",
   "name": "python",
   "nbconvert_exporter": "python",
   "pygments_lexer": "ipython3",
   "version": "3.11.7"
  }
 },
 "nbformat": 4,
 "nbformat_minor": 5
}
