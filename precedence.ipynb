{
 "cells": [
  {
   "cell_type": "markdown",
   "id": "3e392085-c721-483c-8684-a75435f10f2d",
   "metadata": {},
   "source": [
    "# Precedence"
   ]
  },
  {
   "cell_type": "markdown",
   "id": "8c7d6bee-034f-4461-94a2-ad6a38405f81",
   "metadata": {},
   "source": [
    "- operators precedence describes the order in which operators are performed"
   ]
  },
  {
   "cell_type": "markdown",
   "id": "e1e1e2ff-876f-42be-a11d-2dc7447fb7aa",
   "metadata": {},
   "source": [
    "- ()          :parantheses\n",
    "- **          :exponentiation\n",
    "- +x -x ~x    :unary plus,unary minus,bitwise NOT\n",
    "- *  /  //  % :multiplication,division,floor division,modulus\n",
    "- +  -        :addition,subtraction\n",
    "- <<  >>      :bitwise left and rightshift\n",
    "- &           :bitwise AND\n",
    "- ^           :bitwise XOR\n",
    "- |           :bitwise OR\n",
    "- ==  !=  >  >=  <  <=  is  is not  in  not in :comparisions,identity and membership operators\n",
    "- not         :logical NOT\n",
    "- and         :logical AND\n",
    "- or          : logical OR"
   ]
  },
  {
   "cell_type": "markdown",
   "id": "6344719f-e1eb-4604-a417-5a3c388d1627",
   "metadata": {},
   "source": [
    "# 7(2-32)23*23(32-232)/23"
   ]
  },
  {
   "cell_type": "code",
   "execution_count": 18,
   "id": "fd71f5c3-74eb-4d3b-8fe2-bad435de0d70",
   "metadata": {},
   "outputs": [
    {
     "data": {
      "text/plain": [
       "497.30434782608694"
      ]
     },
     "execution_count": 18,
     "metadata": {},
     "output_type": "execute_result"
    }
   ],
   "source": [
    "#addition\n",
    "7+(2-32)+23*23+(32-232)/23\n"
   ]
  },
  {
   "cell_type": "code",
   "execution_count": 2,
   "id": "d8543e19-6e2b-403d-b5ef-aa788d2c0495",
   "metadata": {},
   "outputs": [
    {
     "data": {
      "text/plain": [
       "966000.0"
      ]
     },
     "execution_count": 2,
     "metadata": {},
     "output_type": "execute_result"
    }
   ],
   "source": [
    "#multiplication\n",
    "7*(2-32)*23*23*(32-232)/23"
   ]
  },
  {
   "cell_type": "code",
   "execution_count": 11,
   "id": "21845d18-9224-44c6-ba02-ed0eb9350558",
   "metadata": {},
   "outputs": [
    {
     "data": {
      "text/plain": [
       "5.072463768115943e-05"
      ]
     },
     "execution_count": 11,
     "metadata": {},
     "output_type": "execute_result"
    }
   ],
   "source": [
    "#division\n",
    "7/(2-32)/23*23/(32-232)/23"
   ]
  },
  {
   "cell_type": "markdown",
   "id": "1dc7da4e-02c9-44d3-81e4-275ef3d01dc9",
   "metadata": {},
   "source": [
    "# 78-23+23+23+12+123-232+(34/54*34+)43"
   ]
  },
  {
   "cell_type": "code",
   "execution_count": 19,
   "id": "412a77e3-8c76-429f-aeb8-e2f544556990",
   "metadata": {},
   "outputs": [
    {
     "data": {
      "text/plain": [
       "72.4074074074074"
      ]
     },
     "execution_count": 19,
     "metadata": {},
     "output_type": "execute_result"
    }
   ],
   "source": [
    "\n",
    "#addition\n",
    "78-23+23+23+12+123-232+(34/54*34+4)+43"
   ]
  },
  {
   "cell_type": "code",
   "execution_count": 16,
   "id": "e3851a31-0507-48b7-adc7-10500b8cde56",
   "metadata": {},
   "outputs": [
    {
     "data": {
      "text/plain": [
       "-200177.62962962966"
      ]
     },
     "execution_count": 16,
     "metadata": {},
     "output_type": "execute_result"
    }
   ],
   "source": [
    "#multiplication\n",
    "78-23+23+23+12+123-232*(34/54*34+4)*34"
   ]
  },
  {
   "cell_type": "code",
   "execution_count": 17,
   "id": "b7b88c7d-d856-4890-96f0-d01c994b156e",
   "metadata": {},
   "outputs": [
    {
     "data": {
      "text/plain": [
       "235.78764662010983"
      ]
     },
     "execution_count": 17,
     "metadata": {},
     "output_type": "execute_result"
    }
   ],
   "source": [
    "#division\n",
    "78-23+23+23+12+123-232/(34/54*34+4)/43\n"
   ]
  },
  {
   "cell_type": "markdown",
   "id": "4c77f62a-e577-4e4c-b928-ae9100d0a018",
   "metadata": {},
   "source": [
    "# what is the difference between = (equal to) and ==(real equalto)?\n",
    "- '=' is used for to assign values /variables\n",
    "- '==' is used for equality comparison between two objects, while 'is' checks if two variables refer to the same object in memory.\n",
    "      "
   ]
  },
  {
   "cell_type": "markdown",
   "id": "26ff44dd-675a-401f-a05b-d08da5a32015",
   "metadata": {},
   "source": [
    "# Apply comparison operators"
   ]
  },
  {
   "cell_type": "code",
   "execution_count": 22,
   "id": "4d89e6ec-ef95-4bb9-a0d7-213c9b3cdcff",
   "metadata": {},
   "outputs": [
    {
     "data": {
      "text/plain": [
       "True"
      ]
     },
     "execution_count": 22,
     "metadata": {},
     "output_type": "execute_result"
    }
   ],
   "source": [
    "#apply comparison operators\n",
    "a = -91\n",
    "b = 32\n",
    "\n",
    "#is equal to \n",
    "a == b\n"
   ]
  },
  {
   "cell_type": "code",
   "execution_count": 23,
   "id": "25ba1005-06d9-40a1-b1d0-64a18c1cb9fe",
   "metadata": {},
   "outputs": [
    {
     "data": {
      "text/plain": [
       "True"
      ]
     },
     "execution_count": 23,
     "metadata": {},
     "output_type": "execute_result"
    }
   ],
   "source": [
    "#not equal\n",
    "a != b\n"
   ]
  },
  {
   "cell_type": "code",
   "execution_count": 24,
   "id": "37d2d34f-f664-4572-aaa2-4b0a1d7828d5",
   "metadata": {},
   "outputs": [
    {
     "data": {
      "text/plain": [
       "True"
      ]
     },
     "execution_count": 24,
     "metadata": {},
     "output_type": "execute_result"
    }
   ],
   "source": [
    "#less than\n",
    "a < b\n"
   ]
  },
  {
   "cell_type": "code",
   "execution_count": 25,
   "id": "7d281df8-6f13-4919-bb8b-b0d40ab64754",
   "metadata": {},
   "outputs": [
    {
     "data": {
      "text/plain": [
       "False"
      ]
     },
     "execution_count": 25,
     "metadata": {},
     "output_type": "execute_result"
    }
   ],
   "source": [
    "#greater than\n",
    "a > b"
   ]
  },
  {
   "cell_type": "code",
   "execution_count": 26,
   "id": "ac2fc429-6adb-4447-a342-385284030af5",
   "metadata": {},
   "outputs": [
    {
     "data": {
      "text/plain": [
       "True"
      ]
     },
     "execution_count": 26,
     "metadata": {},
     "output_type": "execute_result"
    }
   ],
   "source": [
    "#lessthan or equal to\n",
    "a <= b"
   ]
  },
  {
   "cell_type": "code",
   "execution_count": 27,
   "id": "b77bae64-4bc9-411d-9717-e1ec230438b7",
   "metadata": {},
   "outputs": [
    {
     "data": {
      "text/plain": [
       "False"
      ]
     },
     "execution_count": 27,
     "metadata": {},
     "output_type": "execute_result"
    }
   ],
   "source": [
    "#greater than or equalto\n",
    "a >= b"
   ]
  },
  {
   "cell_type": "markdown",
   "id": "28397906-a4bb-4751-b5c4-a41966b73dae",
   "metadata": {},
   "source": [
    "# Define type() function "
   ]
  },
  {
   "cell_type": "markdown",
   "id": "0caf01bd-dc11-4798-b16a-f73f920aff82",
   "metadata": {},
   "source": [
    "- The type() function is used to determine the type of an object storing the data in variables .\n",
    "- Example"
   ]
  },
  {
   "cell_type": "code",
   "execution_count": 29,
   "id": "db0f714f-4016-44b5-825a-39ef021edc91",
   "metadata": {},
   "outputs": [
    {
     "name": "stdout",
     "output_type": "stream",
     "text": [
      "7\n",
      "8.76\n",
      "(2+9j)\n",
      "<class 'int'>\n",
      "<class 'float'>\n",
      "<class 'complex'>\n"
     ]
    }
   ],
   "source": [
    "a = 7\n",
    "b = 8.76\n",
    "c = 2+9j\n",
    "print(a)\n",
    "print(b)\n",
    "print(c)\n",
    "\n",
    "print(type(a))\n",
    "print(type(b))\n",
    "print(type(c))"
   ]
  },
  {
   "cell_type": "markdown",
   "id": "b92f333b-549c-4c4d-92ea-ad83941f5858",
   "metadata": {},
   "source": [
    "# Define bool() function"
   ]
  },
  {
   "cell_type": "markdown",
   "id": "48c731ce-6f36-4eb0-9e21-4a970c89f7a4",
   "metadata": {},
   "source": [
    "- The bool() function allows you to evaluate any value,and give you True/False in return\n",
    "\n",
    "\n",
    "\n",
    "\n",
    "\n",
    "\n"
   ]
  },
  {
   "cell_type": "code",
   "execution_count": 30,
   "id": "da75ad5d-d297-403c-af85-7b81523fe1ea",
   "metadata": {},
   "outputs": [
    {
     "name": "stdout",
     "output_type": "stream",
     "text": [
      "True\n",
      "False\n",
      "False\n"
     ]
    }
   ],
   "source": [
    "#example 1\n",
    "print(bool(3456))\n",
    "print(bool(0))\n",
    "print(bool(78<3))     \n",
    "\n"
   ]
  },
  {
   "cell_type": "code",
   "execution_count": 31,
   "id": "38621039-a810-440c-8f37-9d32248aa0b9",
   "metadata": {},
   "outputs": [
    {
     "name": "stdout",
     "output_type": "stream",
     "text": [
      "True\n",
      "True\n",
      "False\n"
     ]
    }
   ],
   "source": [
    "#example 2\n",
    "print(bool(9))\n",
    "print(bool(9.0))\n",
    "print(bool())"
   ]
  },
  {
   "cell_type": "markdown",
   "id": "c9f8543e-ae45-49d0-94c1-4d9b93770bd1",
   "metadata": {},
   "source": [
    "# Any three examples on type conversions"
   ]
  },
  {
   "cell_type": "code",
   "execution_count": 36,
   "id": "9e118903-169f-4586-a167-21aabb503674",
   "metadata": {},
   "outputs": [
    {
     "name": "stdout",
     "output_type": "stream",
     "text": [
      "(678.345+0j)\n",
      "678\n",
      "999.0\n",
      "<class 'complex'>\n",
      "<class 'int'>\n",
      "<class 'float'>\n"
     ]
    }
   ],
   "source": [
    "x = 999 # int\n",
    "y = 678.345 #float\n",
    "z = 48+89j #complex\n",
    "\n",
    "#convert from float to complex\n",
    "a = complex(y)\n",
    "\n",
    "#convert from float to int\n",
    "b = int(y)\n",
    "\n",
    "#convert from int to float\n",
    "c = float(x)\n",
    "\n",
    "print(a)\n",
    "print(b)\n",
    "print(c)\n",
    "\n",
    "print(type(a))\n",
    "print(type(b))\n",
    "print(type(c))\n"
   ]
  },
  {
   "cell_type": "code",
   "execution_count": 37,
   "id": "7fb0adec-7ba3-407e-a3b9-a214f2174d33",
   "metadata": {},
   "outputs": [
    {
     "name": "stdout",
     "output_type": "stream",
     "text": [
      "(789.89+0j)\n",
      "789\n",
      "678.0\n",
      "<class 'complex'>\n",
      "<class 'int'>\n",
      "<class 'float'>\n"
     ]
    }
   ],
   "source": [
    "x = 678 # int\n",
    "y = 789.89 #float\n",
    "z = 678+45j #complex\n",
    "\n",
    "#convert from float to complex\n",
    "a = complex(y)\n",
    "\n",
    "#convert from float to int\n",
    "b = int(y)\n",
    "\n",
    "#convert from int to float\n",
    "c = float(x)\n",
    "\n",
    "print(a)\n",
    "print(b)\n",
    "print(c)\n",
    "\n",
    "print(type(a))\n",
    "print(type(b))\n",
    "print(type(c))\n"
   ]
  },
  {
   "cell_type": "code",
   "execution_count": 40,
   "id": "49ef0bea-5ccb-4280-b188-510ef5d3122b",
   "metadata": {},
   "outputs": [
    {
     "name": "stdout",
     "output_type": "stream",
     "text": [
      "243.0\n",
      "5\n",
      "(5.67+0j)\n"
     ]
    }
   ],
   "source": [
    "x = 243\n",
    "y = 5.67\n",
    "z = 98+90j\n",
    "\n",
    "a = float(x)\n",
    "b = int(y)\n",
    "c = complex(y)\n",
    "\n",
    "print(a)\n",
    "print(b)\n",
    "print(c)"
   ]
  }
 ],
 "metadata": {
  "kernelspec": {
   "display_name": "Python 3 (ipykernel)",
   "language": "python",
   "name": "python3"
  },
  "language_info": {
   "codemirror_mode": {
    "name": "ipython",
    "version": 3
   },
   "file_extension": ".py",
   "mimetype": "text/x-python",
   "name": "python",
   "nbconvert_exporter": "python",
   "pygments_lexer": "ipython3",
   "version": "3.11.7"
  }
 },
 "nbformat": 4,
 "nbformat_minor": 5
}
