{
 "cells": [
  {
   "cell_type": "markdown",
   "id": "3664001d-015a-46bd-ac53-d8a4e6c74afb",
   "metadata": {},
   "source": [
    "# Tuple methods"
   ]
  },
  {
   "cell_type": "code",
   "execution_count": null,
   "id": "5d9ff3ed-17cd-48fd-a8e3-081a4f179bc1",
   "metadata": {},
   "outputs": [],
   "source": [
    "1. len(): Although not a method specific to tuples, len() can be used to get the length of a tuple, which is the number of elements it contains."
   ]
  },
  {
   "cell_type": "code",
   "execution_count": 2,
   "id": "9b9072d4-0b13-4ef7-a536-30d5278ccbe3",
   "metadata": {},
   "outputs": [
    {
     "name": "stdout",
     "output_type": "stream",
     "text": [
      "5\n"
     ]
    }
   ],
   "source": [
    "my_tuple = (1, 2, 3, 4, 5)\n",
    "length_of_tuple = len(my_tuple)\n",
    "print(length_of_tuple)"
   ]
  },
  {
   "cell_type": "markdown",
   "id": "920a9bf0-9aac-4867-9178-afd13541e41e",
   "metadata": {},
   "source": [
    "2. sorted(iterable, key=None, reverse=False): This function sorts the elements of a tuple and returns a new list with the sorted elements. "
   ]
  },
  {
   "cell_type": "code",
   "execution_count": 3,
   "id": "112b5f96-dd56-4c19-a32b-0f3ada2943d1",
   "metadata": {},
   "outputs": [
    {
     "name": "stdout",
     "output_type": "stream",
     "text": [
      "[1, 2, 3, 5, 8]\n"
     ]
    }
   ],
   "source": [
    "my_tuple = (5, 2, 8,1, 3) \n",
    "sorted_tuple = sorted(my_tuple)  \n",
    "print(sorted_tuple)\n"
   ]
  },
  {
   "cell_type": "markdown",
   "id": "850810e4-d6b6-462e-8132-3c45b00588c0",
   "metadata": {},
   "source": [
    "3.max() and min(): These functions return the maximum and minimum values from a tuple, respectively."
   ]
  },
  {
   "cell_type": "code",
   "execution_count": 4,
   "id": "9975e24f-f767-4318-b74b-721e56b66590",
   "metadata": {},
   "outputs": [
    {
     "name": "stdout",
     "output_type": "stream",
     "text": [
      "8\n",
      "1\n"
     ]
    }
   ],
   "source": [
    "my_tuple = (5, 2, 8, 1,3)\n",
    "max_value = max(my_tuple)  # This will return 8\n",
    "min_value = min(my_tuple)  # This will return 1\n",
    "print(max_value)\n",
    "print(min_value)"
   ]
  },
  {
   "cell_type": "markdown",
   "id": "9c735ecf-5f61-4bc4-887e-4e35cb321867",
   "metadata": {},
   "source": [
    "4.  any() and all(): These functions return True if any or all elements of a tuple evaluate to True, respectively."
   ]
  },
  {
   "cell_type": "code",
   "execution_count": 7,
   "id": "a14a9235-7f28-4a6c-8bc3-263ff1cd0744",
   "metadata": {},
   "outputs": [
    {
     "name": "stdout",
     "output_type": "stream",
     "text": [
      "True\n",
      "False\n"
     ]
    }
   ],
   "source": [
    "my_tuple = (True, False, True, True)\n",
    "any_true = any(my_tuple)  # This will return True\n",
    "all_true = all(my_tuple)  # This will return False\n",
    "print(any_true)\n",
    "print(all_true)"
   ]
  },
  {
   "cell_type": "markdown",
   "id": "a19149af-c86b-4c34-8981-20099949fd0a",
   "metadata": {},
   "source": [
    "5. unpacking: You can unpack a tuple into individual variables."
   ]
  },
  {
   "cell_type": "code",
   "execution_count": 8,
   "id": "39e59242-b42c-4caf-917f-db65f3d26d59",
   "metadata": {},
   "outputs": [
    {
     "name": "stdout",
     "output_type": "stream",
     "text": [
      "1\n",
      "2\n",
      "3\n"
     ]
    }
   ],
   "source": [
    "my_tuple = (1, 2, 3)\n",
    "a, b, c = my_tuple\n",
    "print(a)\n",
    "print(b)\n",
    "print(c)"
   ]
  },
  {
   "cell_type": "markdown",
   "id": "84b3ff82-0b4f-4e33-8f5e-95493705fb96",
   "metadata": {},
   "source": [
    "6.iteration: You can iterate over the elements of a tuple using a loop."
   ]
  },
  {
   "cell_type": "code",
   "execution_count": 10,
   "id": "035aa1ec-557a-45b4-a1a0-c02991c06d0d",
   "metadata": {},
   "outputs": [
    {
     "name": "stdout",
     "output_type": "stream",
     "text": [
      "1\n",
      "2\n",
      "3\n"
     ]
    }
   ],
   "source": [
    "my_tuple = (1, 2, 3)\n",
    "for item in my_tuple:\n",
    " print(item)"
   ]
  },
  {
   "cell_type": "code",
   "execution_count": null,
   "id": "b88a7e42-6d2b-436e-bef1-64a18b112469",
   "metadata": {},
   "outputs": [],
   "source": []
  }
 ],
 "metadata": {
  "kernelspec": {
   "display_name": "Python 3 (ipykernel)",
   "language": "python",
   "name": "python3"
  },
  "language_info": {
   "codemirror_mode": {
    "name": "ipython",
    "version": 3
   },
   "file_extension": ".py",
   "mimetype": "text/x-python",
   "name": "python",
   "nbconvert_exporter": "python",
   "pygments_lexer": "ipython3",
   "version": "3.11.7"
  }
 },
 "nbformat": 4,
 "nbformat_minor": 5
}
